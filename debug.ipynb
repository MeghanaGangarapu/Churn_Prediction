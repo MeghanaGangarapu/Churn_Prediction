{
 "cells": [
  {
   "cell_type": "code",
   "execution_count": 2,
   "id": "d12b6358",
   "metadata": {},
   "outputs": [],
   "source": [
    "import os"
   ]
  },
  {
   "cell_type": "code",
   "execution_count": 3,
   "id": "b41e7f08",
   "metadata": {},
   "outputs": [
    {
     "data": {
      "text/plain": [
       "'/Users/kirant/PythonProjects/Churn_Prediction'"
      ]
     },
     "execution_count": 3,
     "metadata": {},
     "output_type": "execute_result"
    }
   ],
   "source": [
    "os.getcwd()"
   ]
  },
  {
   "cell_type": "code",
   "execution_count": 6,
   "id": "12b248c3",
   "metadata": {},
   "outputs": [],
   "source": [
    "import os\n",
    "import joblib\n",
    "\n",
    "def get_base_dir():\n",
    "    try:\n",
    "        # Works when __file__ is available (e.g. in Streamlit Cloud or proper script execution)\n",
    "        return os.path.dirname(os.path.abspath(__file__))\n",
    "    except NameError:\n",
    "        # Fallback for interactive environments like notebooks or some IDEs\n",
    "        return os.getcwd()\n",
    "\n",
    "def load_model_bundle():\n",
    "    base_dir = get_base_dir()\n",
    "    model_path = os.path.join(base_dir, 'model', 'model_bundle.joblib')\n",
    "    print(\"Loading model from:\", model_path)\n",
    "    return joblib.load(model_path)\n",
    "\n"
   ]
  },
  {
   "cell_type": "code",
   "execution_count": 7,
   "id": "fbd7bf06",
   "metadata": {},
   "outputs": [
    {
     "name": "stdout",
     "output_type": "stream",
     "text": [
      "Loading model from: /Users/kirant/PythonProjects/Churn_Prediction/model/model_bundle.joblib\n"
     ]
    },
    {
     "data": {
      "text/plain": [
       "{'model': LGBMClassifier(class_weight='balanced', colsample_bytree=0.9974161003960688,\n",
       "                learning_rate=0.05372021155354543, max_depth=9,\n",
       "                min_child_samples=78, min_child_weight=6.191038311943995,\n",
       "                n_jobs=-1, num_leaves=50, objective='binary', random_state=42,\n",
       "                reg_alpha=0.7332687687172106, reg_lambda=3.117095023700406,\n",
       "                subsample=0.6635324025045397, verbosity=-1),\n",
       " 'best_params': {'learning_rate': 0.05372021155354543,\n",
       "  'num_leaves': 50,\n",
       "  'max_depth': 9,\n",
       "  'min_child_samples': 78,\n",
       "  'min_child_weight': 6.191038311943995,\n",
       "  'subsample': 0.6635324025045397,\n",
       "  'colsample_bytree': 0.9974161003960688,\n",
       "  'reg_alpha': 0.7332687687172106,\n",
       "  'reg_lambda': 3.117095023700406,\n",
       "  'n_estimators': 100,\n",
       "  'random_state': 42,\n",
       "  'n_jobs': -1,\n",
       "  'class_weight': 'balanced',\n",
       "  'verbosity': -1,\n",
       "  'objective': 'binary',\n",
       "  'boosting_type': 'gbdt'},\n",
       " 'threshold': np.float64(0.5050766208790826),\n",
       " 'metrics': {'f1_score': 0.6331145149525893,\n",
       "  'precision': 0.5358024691358024,\n",
       "  'recall': 0.7736185383244206,\n",
       "  'accuracy': 0.7619498343587316}}"
      ]
     },
     "execution_count": 7,
     "metadata": {},
     "output_type": "execute_result"
    }
   ],
   "source": [
    "load_model_bundle()"
   ]
  },
  {
   "cell_type": "code",
   "execution_count": null,
   "id": "c45bbac0",
   "metadata": {},
   "outputs": [],
   "source": []
  }
 ],
 "metadata": {
  "kernelspec": {
   "display_name": ".venv",
   "language": "python",
   "name": "python3"
  },
  "language_info": {
   "codemirror_mode": {
    "name": "ipython",
    "version": 3
   },
   "file_extension": ".py",
   "mimetype": "text/x-python",
   "name": "python",
   "nbconvert_exporter": "python",
   "pygments_lexer": "ipython3",
   "version": "3.12.3"
  }
 },
 "nbformat": 4,
 "nbformat_minor": 5
}
