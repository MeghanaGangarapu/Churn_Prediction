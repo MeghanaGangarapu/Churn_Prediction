{
 "cells": [
  {
   "cell_type": "code",
   "execution_count": 1,
   "id": "b92ff9cb",
   "metadata": {},
   "outputs": [],
   "source": [
    "import pandas as pd\n",
    "import numpy as np\n",
    "import matplotlib.pyplot as plt\n",
    "import seaborn as sns\n",
    "import warnings\n",
    "warnings.filterwarnings(\"ignore\") # to ignore warnings"
   ]
  },
  {
   "cell_type": "code",
   "execution_count": 2,
   "id": "aca5d1bb",
   "metadata": {},
   "outputs": [],
   "source": [
    "df = pd.read_csv('data/Telco-Customer-Churn.csv')"
   ]
  },
  {
   "cell_type": "code",
   "execution_count": 3,
   "id": "fb0a2303",
   "metadata": {},
   "outputs": [
    {
     "name": "stdout",
     "output_type": "stream",
     "text": [
      "<class 'pandas.core.frame.DataFrame'>\n",
      "RangeIndex: 7043 entries, 0 to 7042\n",
      "Data columns (total 21 columns):\n",
      " #   Column            Non-Null Count  Dtype  \n",
      "---  ------            --------------  -----  \n",
      " 0   customerID        7043 non-null   object \n",
      " 1   gender            7043 non-null   object \n",
      " 2   SeniorCitizen     7043 non-null   int64  \n",
      " 3   Partner           7043 non-null   object \n",
      " 4   Dependents        7043 non-null   object \n",
      " 5   tenure            7043 non-null   int64  \n",
      " 6   PhoneService      7043 non-null   object \n",
      " 7   MultipleLines     7043 non-null   object \n",
      " 8   InternetService   7043 non-null   object \n",
      " 9   OnlineSecurity    7043 non-null   object \n",
      " 10  OnlineBackup      7043 non-null   object \n",
      " 11  DeviceProtection  7043 non-null   object \n",
      " 12  TechSupport       7043 non-null   object \n",
      " 13  StreamingTV       7043 non-null   object \n",
      " 14  StreamingMovies   7043 non-null   object \n",
      " 15  Contract          7043 non-null   object \n",
      " 16  PaperlessBilling  7043 non-null   object \n",
      " 17  PaymentMethod     7043 non-null   object \n",
      " 18  MonthlyCharges    7043 non-null   float64\n",
      " 19  TotalCharges      7043 non-null   object \n",
      " 20  Churn             7043 non-null   object \n",
      "dtypes: float64(1), int64(2), object(18)\n",
      "memory usage: 1.1+ MB\n"
     ]
    }
   ],
   "source": [
    "df.info()"
   ]
  },
  {
   "cell_type": "code",
   "execution_count": 4,
   "id": "791e9c76",
   "metadata": {},
   "outputs": [
    {
     "data": {
      "text/html": [
       "<div>\n",
       "<style scoped>\n",
       "    .dataframe tbody tr th:only-of-type {\n",
       "        vertical-align: middle;\n",
       "    }\n",
       "\n",
       "    .dataframe tbody tr th {\n",
       "        vertical-align: top;\n",
       "    }\n",
       "\n",
       "    .dataframe thead th {\n",
       "        text-align: right;\n",
       "    }\n",
       "</style>\n",
       "<table border=\"1\" class=\"dataframe\">\n",
       "  <thead>\n",
       "    <tr style=\"text-align: right;\">\n",
       "      <th></th>\n",
       "      <th>customerID</th>\n",
       "      <th>gender</th>\n",
       "      <th>SeniorCitizen</th>\n",
       "      <th>Partner</th>\n",
       "      <th>Dependents</th>\n",
       "      <th>tenure</th>\n",
       "      <th>PhoneService</th>\n",
       "      <th>MultipleLines</th>\n",
       "      <th>InternetService</th>\n",
       "      <th>OnlineSecurity</th>\n",
       "      <th>...</th>\n",
       "      <th>DeviceProtection</th>\n",
       "      <th>TechSupport</th>\n",
       "      <th>StreamingTV</th>\n",
       "      <th>StreamingMovies</th>\n",
       "      <th>Contract</th>\n",
       "      <th>PaperlessBilling</th>\n",
       "      <th>PaymentMethod</th>\n",
       "      <th>MonthlyCharges</th>\n",
       "      <th>TotalCharges</th>\n",
       "      <th>Churn</th>\n",
       "    </tr>\n",
       "  </thead>\n",
       "  <tbody>\n",
       "    <tr>\n",
       "      <th>0</th>\n",
       "      <td>7590-VHVEG</td>\n",
       "      <td>Female</td>\n",
       "      <td>0</td>\n",
       "      <td>Yes</td>\n",
       "      <td>No</td>\n",
       "      <td>1</td>\n",
       "      <td>No</td>\n",
       "      <td>No phone service</td>\n",
       "      <td>DSL</td>\n",
       "      <td>No</td>\n",
       "      <td>...</td>\n",
       "      <td>No</td>\n",
       "      <td>No</td>\n",
       "      <td>No</td>\n",
       "      <td>No</td>\n",
       "      <td>Month-to-month</td>\n",
       "      <td>Yes</td>\n",
       "      <td>Electronic check</td>\n",
       "      <td>29.85</td>\n",
       "      <td>29.85</td>\n",
       "      <td>No</td>\n",
       "    </tr>\n",
       "    <tr>\n",
       "      <th>1</th>\n",
       "      <td>5575-GNVDE</td>\n",
       "      <td>Male</td>\n",
       "      <td>0</td>\n",
       "      <td>No</td>\n",
       "      <td>No</td>\n",
       "      <td>34</td>\n",
       "      <td>Yes</td>\n",
       "      <td>No</td>\n",
       "      <td>DSL</td>\n",
       "      <td>Yes</td>\n",
       "      <td>...</td>\n",
       "      <td>Yes</td>\n",
       "      <td>No</td>\n",
       "      <td>No</td>\n",
       "      <td>No</td>\n",
       "      <td>One year</td>\n",
       "      <td>No</td>\n",
       "      <td>Mailed check</td>\n",
       "      <td>56.95</td>\n",
       "      <td>1889.5</td>\n",
       "      <td>No</td>\n",
       "    </tr>\n",
       "    <tr>\n",
       "      <th>2</th>\n",
       "      <td>3668-QPYBK</td>\n",
       "      <td>Male</td>\n",
       "      <td>0</td>\n",
       "      <td>No</td>\n",
       "      <td>No</td>\n",
       "      <td>2</td>\n",
       "      <td>Yes</td>\n",
       "      <td>No</td>\n",
       "      <td>DSL</td>\n",
       "      <td>Yes</td>\n",
       "      <td>...</td>\n",
       "      <td>No</td>\n",
       "      <td>No</td>\n",
       "      <td>No</td>\n",
       "      <td>No</td>\n",
       "      <td>Month-to-month</td>\n",
       "      <td>Yes</td>\n",
       "      <td>Mailed check</td>\n",
       "      <td>53.85</td>\n",
       "      <td>108.15</td>\n",
       "      <td>Yes</td>\n",
       "    </tr>\n",
       "    <tr>\n",
       "      <th>3</th>\n",
       "      <td>7795-CFOCW</td>\n",
       "      <td>Male</td>\n",
       "      <td>0</td>\n",
       "      <td>No</td>\n",
       "      <td>No</td>\n",
       "      <td>45</td>\n",
       "      <td>No</td>\n",
       "      <td>No phone service</td>\n",
       "      <td>DSL</td>\n",
       "      <td>Yes</td>\n",
       "      <td>...</td>\n",
       "      <td>Yes</td>\n",
       "      <td>Yes</td>\n",
       "      <td>No</td>\n",
       "      <td>No</td>\n",
       "      <td>One year</td>\n",
       "      <td>No</td>\n",
       "      <td>Bank transfer (automatic)</td>\n",
       "      <td>42.30</td>\n",
       "      <td>1840.75</td>\n",
       "      <td>No</td>\n",
       "    </tr>\n",
       "    <tr>\n",
       "      <th>4</th>\n",
       "      <td>9237-HQITU</td>\n",
       "      <td>Female</td>\n",
       "      <td>0</td>\n",
       "      <td>No</td>\n",
       "      <td>No</td>\n",
       "      <td>2</td>\n",
       "      <td>Yes</td>\n",
       "      <td>No</td>\n",
       "      <td>Fiber optic</td>\n",
       "      <td>No</td>\n",
       "      <td>...</td>\n",
       "      <td>No</td>\n",
       "      <td>No</td>\n",
       "      <td>No</td>\n",
       "      <td>No</td>\n",
       "      <td>Month-to-month</td>\n",
       "      <td>Yes</td>\n",
       "      <td>Electronic check</td>\n",
       "      <td>70.70</td>\n",
       "      <td>151.65</td>\n",
       "      <td>Yes</td>\n",
       "    </tr>\n",
       "  </tbody>\n",
       "</table>\n",
       "<p>5 rows × 21 columns</p>\n",
       "</div>"
      ],
      "text/plain": [
       "   customerID  gender  SeniorCitizen Partner Dependents  tenure PhoneService  \\\n",
       "0  7590-VHVEG  Female              0     Yes         No       1           No   \n",
       "1  5575-GNVDE    Male              0      No         No      34          Yes   \n",
       "2  3668-QPYBK    Male              0      No         No       2          Yes   \n",
       "3  7795-CFOCW    Male              0      No         No      45           No   \n",
       "4  9237-HQITU  Female              0      No         No       2          Yes   \n",
       "\n",
       "      MultipleLines InternetService OnlineSecurity  ... DeviceProtection  \\\n",
       "0  No phone service             DSL             No  ...               No   \n",
       "1                No             DSL            Yes  ...              Yes   \n",
       "2                No             DSL            Yes  ...               No   \n",
       "3  No phone service             DSL            Yes  ...              Yes   \n",
       "4                No     Fiber optic             No  ...               No   \n",
       "\n",
       "  TechSupport StreamingTV StreamingMovies        Contract PaperlessBilling  \\\n",
       "0          No          No              No  Month-to-month              Yes   \n",
       "1          No          No              No        One year               No   \n",
       "2          No          No              No  Month-to-month              Yes   \n",
       "3         Yes          No              No        One year               No   \n",
       "4          No          No              No  Month-to-month              Yes   \n",
       "\n",
       "               PaymentMethod MonthlyCharges  TotalCharges Churn  \n",
       "0           Electronic check          29.85         29.85    No  \n",
       "1               Mailed check          56.95        1889.5    No  \n",
       "2               Mailed check          53.85        108.15   Yes  \n",
       "3  Bank transfer (automatic)          42.30       1840.75    No  \n",
       "4           Electronic check          70.70        151.65   Yes  \n",
       "\n",
       "[5 rows x 21 columns]"
      ]
     },
     "execution_count": 4,
     "metadata": {},
     "output_type": "execute_result"
    }
   ],
   "source": [
    "df.head()"
   ]
  },
  {
   "cell_type": "code",
   "execution_count": 5,
   "id": "5c519623",
   "metadata": {},
   "outputs": [],
   "source": [
    "data = df.copy()\n",
    "data.drop(columns=['customerID'], inplace=True)"
   ]
  },
  {
   "cell_type": "code",
   "execution_count": 6,
   "id": "d6a768ae",
   "metadata": {},
   "outputs": [
    {
     "data": {
      "text/html": [
       "<div>\n",
       "<style scoped>\n",
       "    .dataframe tbody tr th:only-of-type {\n",
       "        vertical-align: middle;\n",
       "    }\n",
       "\n",
       "    .dataframe tbody tr th {\n",
       "        vertical-align: top;\n",
       "    }\n",
       "\n",
       "    .dataframe thead th {\n",
       "        text-align: right;\n",
       "    }\n",
       "</style>\n",
       "<table border=\"1\" class=\"dataframe\">\n",
       "  <thead>\n",
       "    <tr style=\"text-align: right;\">\n",
       "      <th></th>\n",
       "      <th>SeniorCitizen</th>\n",
       "      <th>tenure</th>\n",
       "      <th>MonthlyCharges</th>\n",
       "    </tr>\n",
       "  </thead>\n",
       "  <tbody>\n",
       "    <tr>\n",
       "      <th>count</th>\n",
       "      <td>7043.000000</td>\n",
       "      <td>7043.000000</td>\n",
       "      <td>7043.000000</td>\n",
       "    </tr>\n",
       "    <tr>\n",
       "      <th>mean</th>\n",
       "      <td>0.162147</td>\n",
       "      <td>32.371149</td>\n",
       "      <td>64.761692</td>\n",
       "    </tr>\n",
       "    <tr>\n",
       "      <th>std</th>\n",
       "      <td>0.368612</td>\n",
       "      <td>24.559481</td>\n",
       "      <td>30.090047</td>\n",
       "    </tr>\n",
       "    <tr>\n",
       "      <th>min</th>\n",
       "      <td>0.000000</td>\n",
       "      <td>0.000000</td>\n",
       "      <td>18.250000</td>\n",
       "    </tr>\n",
       "    <tr>\n",
       "      <th>25%</th>\n",
       "      <td>0.000000</td>\n",
       "      <td>9.000000</td>\n",
       "      <td>35.500000</td>\n",
       "    </tr>\n",
       "    <tr>\n",
       "      <th>50%</th>\n",
       "      <td>0.000000</td>\n",
       "      <td>29.000000</td>\n",
       "      <td>70.350000</td>\n",
       "    </tr>\n",
       "    <tr>\n",
       "      <th>75%</th>\n",
       "      <td>0.000000</td>\n",
       "      <td>55.000000</td>\n",
       "      <td>89.850000</td>\n",
       "    </tr>\n",
       "    <tr>\n",
       "      <th>max</th>\n",
       "      <td>1.000000</td>\n",
       "      <td>72.000000</td>\n",
       "      <td>118.750000</td>\n",
       "    </tr>\n",
       "  </tbody>\n",
       "</table>\n",
       "</div>"
      ],
      "text/plain": [
       "       SeniorCitizen       tenure  MonthlyCharges\n",
       "count    7043.000000  7043.000000     7043.000000\n",
       "mean        0.162147    32.371149       64.761692\n",
       "std         0.368612    24.559481       30.090047\n",
       "min         0.000000     0.000000       18.250000\n",
       "25%         0.000000     9.000000       35.500000\n",
       "50%         0.000000    29.000000       70.350000\n",
       "75%         0.000000    55.000000       89.850000\n",
       "max         1.000000    72.000000      118.750000"
      ]
     },
     "execution_count": 6,
     "metadata": {},
     "output_type": "execute_result"
    }
   ],
   "source": [
    "data.describe()"
   ]
  },
  {
   "cell_type": "code",
   "execution_count": 7,
   "id": "3e04f093",
   "metadata": {},
   "outputs": [
    {
     "data": {
      "text/html": [
       "<div>\n",
       "<style scoped>\n",
       "    .dataframe tbody tr th:only-of-type {\n",
       "        vertical-align: middle;\n",
       "    }\n",
       "\n",
       "    .dataframe tbody tr th {\n",
       "        vertical-align: top;\n",
       "    }\n",
       "\n",
       "    .dataframe thead th {\n",
       "        text-align: right;\n",
       "    }\n",
       "</style>\n",
       "<table border=\"1\" class=\"dataframe\">\n",
       "  <thead>\n",
       "    <tr style=\"text-align: right;\">\n",
       "      <th></th>\n",
       "      <th>gender</th>\n",
       "      <th>Partner</th>\n",
       "      <th>Dependents</th>\n",
       "      <th>PhoneService</th>\n",
       "      <th>MultipleLines</th>\n",
       "      <th>InternetService</th>\n",
       "      <th>OnlineSecurity</th>\n",
       "      <th>OnlineBackup</th>\n",
       "      <th>DeviceProtection</th>\n",
       "      <th>TechSupport</th>\n",
       "      <th>StreamingTV</th>\n",
       "      <th>StreamingMovies</th>\n",
       "      <th>Contract</th>\n",
       "      <th>PaperlessBilling</th>\n",
       "      <th>PaymentMethod</th>\n",
       "      <th>TotalCharges</th>\n",
       "      <th>Churn</th>\n",
       "    </tr>\n",
       "  </thead>\n",
       "  <tbody>\n",
       "    <tr>\n",
       "      <th>count</th>\n",
       "      <td>7043</td>\n",
       "      <td>7043</td>\n",
       "      <td>7043</td>\n",
       "      <td>7043</td>\n",
       "      <td>7043</td>\n",
       "      <td>7043</td>\n",
       "      <td>7043</td>\n",
       "      <td>7043</td>\n",
       "      <td>7043</td>\n",
       "      <td>7043</td>\n",
       "      <td>7043</td>\n",
       "      <td>7043</td>\n",
       "      <td>7043</td>\n",
       "      <td>7043</td>\n",
       "      <td>7043</td>\n",
       "      <td>7043</td>\n",
       "      <td>7043</td>\n",
       "    </tr>\n",
       "    <tr>\n",
       "      <th>unique</th>\n",
       "      <td>2</td>\n",
       "      <td>2</td>\n",
       "      <td>2</td>\n",
       "      <td>2</td>\n",
       "      <td>3</td>\n",
       "      <td>3</td>\n",
       "      <td>3</td>\n",
       "      <td>3</td>\n",
       "      <td>3</td>\n",
       "      <td>3</td>\n",
       "      <td>3</td>\n",
       "      <td>3</td>\n",
       "      <td>3</td>\n",
       "      <td>2</td>\n",
       "      <td>4</td>\n",
       "      <td>6531</td>\n",
       "      <td>2</td>\n",
       "    </tr>\n",
       "    <tr>\n",
       "      <th>top</th>\n",
       "      <td>Male</td>\n",
       "      <td>No</td>\n",
       "      <td>No</td>\n",
       "      <td>Yes</td>\n",
       "      <td>No</td>\n",
       "      <td>Fiber optic</td>\n",
       "      <td>No</td>\n",
       "      <td>No</td>\n",
       "      <td>No</td>\n",
       "      <td>No</td>\n",
       "      <td>No</td>\n",
       "      <td>No</td>\n",
       "      <td>Month-to-month</td>\n",
       "      <td>Yes</td>\n",
       "      <td>Electronic check</td>\n",
       "      <td></td>\n",
       "      <td>No</td>\n",
       "    </tr>\n",
       "    <tr>\n",
       "      <th>freq</th>\n",
       "      <td>3555</td>\n",
       "      <td>3641</td>\n",
       "      <td>4933</td>\n",
       "      <td>6361</td>\n",
       "      <td>3390</td>\n",
       "      <td>3096</td>\n",
       "      <td>3498</td>\n",
       "      <td>3088</td>\n",
       "      <td>3095</td>\n",
       "      <td>3473</td>\n",
       "      <td>2810</td>\n",
       "      <td>2785</td>\n",
       "      <td>3875</td>\n",
       "      <td>4171</td>\n",
       "      <td>2365</td>\n",
       "      <td>11</td>\n",
       "      <td>5174</td>\n",
       "    </tr>\n",
       "  </tbody>\n",
       "</table>\n",
       "</div>"
      ],
      "text/plain": [
       "       gender Partner Dependents PhoneService MultipleLines InternetService  \\\n",
       "count    7043    7043       7043         7043          7043            7043   \n",
       "unique      2       2          2            2             3               3   \n",
       "top      Male      No         No          Yes            No     Fiber optic   \n",
       "freq     3555    3641       4933         6361          3390            3096   \n",
       "\n",
       "       OnlineSecurity OnlineBackup DeviceProtection TechSupport StreamingTV  \\\n",
       "count            7043         7043             7043        7043        7043   \n",
       "unique              3            3                3           3           3   \n",
       "top                No           No               No          No          No   \n",
       "freq             3498         3088             3095        3473        2810   \n",
       "\n",
       "       StreamingMovies        Contract PaperlessBilling     PaymentMethod  \\\n",
       "count             7043            7043             7043              7043   \n",
       "unique               3               3                2                 4   \n",
       "top                 No  Month-to-month              Yes  Electronic check   \n",
       "freq              2785            3875             4171              2365   \n",
       "\n",
       "       TotalCharges Churn  \n",
       "count          7043  7043  \n",
       "unique         6531     2  \n",
       "top                    No  \n",
       "freq             11  5174  "
      ]
     },
     "execution_count": 7,
     "metadata": {},
     "output_type": "execute_result"
    }
   ],
   "source": [
    "data.describe(include='object')"
   ]
  },
  {
   "cell_type": "code",
   "execution_count": 8,
   "id": "435abdfc",
   "metadata": {},
   "outputs": [
    {
     "data": {
      "text/plain": [
       "gender              0\n",
       "SeniorCitizen       0\n",
       "Partner             0\n",
       "Dependents          0\n",
       "tenure              0\n",
       "PhoneService        0\n",
       "MultipleLines       0\n",
       "InternetService     0\n",
       "OnlineSecurity      0\n",
       "OnlineBackup        0\n",
       "DeviceProtection    0\n",
       "TechSupport         0\n",
       "StreamingTV         0\n",
       "StreamingMovies     0\n",
       "Contract            0\n",
       "PaperlessBilling    0\n",
       "PaymentMethod       0\n",
       "MonthlyCharges      0\n",
       "TotalCharges        0\n",
       "Churn               0\n",
       "dtype: int64"
      ]
     },
     "execution_count": 8,
     "metadata": {},
     "output_type": "execute_result"
    }
   ],
   "source": [
    "data.isnull().sum()"
   ]
  },
  {
   "cell_type": "code",
   "execution_count": 9,
   "id": "806b90cb",
   "metadata": {},
   "outputs": [],
   "source": [
    "categorical_cols = data.select_dtypes(include=['object']).columns.tolist()\n",
    "numerical_cols = data.select_dtypes(include=['number']).columns.tolist()"
   ]
  },
  {
   "cell_type": "code",
   "execution_count": 10,
   "id": "f070fad6",
   "metadata": {},
   "outputs": [
    {
     "name": "stdout",
     "output_type": "stream",
     "text": [
      "gender ['Female' 'Male']\n",
      "Partner ['Yes' 'No']\n",
      "Dependents ['No' 'Yes']\n",
      "PhoneService ['No' 'Yes']\n",
      "MultipleLines ['No phone service' 'No' 'Yes']\n",
      "InternetService ['DSL' 'Fiber optic' 'No']\n",
      "OnlineSecurity ['No' 'Yes' 'No internet service']\n",
      "OnlineBackup ['Yes' 'No' 'No internet service']\n",
      "DeviceProtection ['No' 'Yes' 'No internet service']\n",
      "TechSupport ['No' 'Yes' 'No internet service']\n",
      "StreamingTV ['No' 'Yes' 'No internet service']\n",
      "StreamingMovies ['No' 'Yes' 'No internet service']\n",
      "Contract ['Month-to-month' 'One year' 'Two year']\n",
      "PaperlessBilling ['Yes' 'No']\n",
      "PaymentMethod ['Electronic check' 'Mailed check' 'Bank transfer (automatic)'\n",
      " 'Credit card (automatic)']\n",
      "TotalCharges ['29.85' '1889.5' '108.15' ... '346.45' '306.6' '6844.5']\n",
      "Churn ['No' 'Yes']\n"
     ]
    }
   ],
   "source": [
    "for col in categorical_cols:\n",
    "    print(col, data[col].unique())"
   ]
  },
  {
   "cell_type": "markdown",
   "id": "eeac841f",
   "metadata": {},
   "source": [
    "Investigating why TotalCharges is of type object. Identifying the index where TotalCharges is not numeric"
   ]
  },
  {
   "cell_type": "code",
   "execution_count": 11,
   "id": "22b75e3b",
   "metadata": {},
   "outputs": [
    {
     "data": {
      "text/plain": [
       "np.int64(11)"
      ]
     },
     "execution_count": 11,
     "metadata": {},
     "output_type": "execute_result"
    }
   ],
   "source": [
    "pd.to_numeric(data['TotalCharges'], errors='coerce').isnull().sum()\n",
    "\n",
    "## There are 11 rows where TotalCharges is not a number"
   ]
  },
  {
   "cell_type": "code",
   "execution_count": 12,
   "id": "db408900",
   "metadata": {},
   "outputs": [
    {
     "data": {
      "text/html": [
       "<div>\n",
       "<style scoped>\n",
       "    .dataframe tbody tr th:only-of-type {\n",
       "        vertical-align: middle;\n",
       "    }\n",
       "\n",
       "    .dataframe tbody tr th {\n",
       "        vertical-align: top;\n",
       "    }\n",
       "\n",
       "    .dataframe thead th {\n",
       "        text-align: right;\n",
       "    }\n",
       "</style>\n",
       "<table border=\"1\" class=\"dataframe\">\n",
       "  <thead>\n",
       "    <tr style=\"text-align: right;\">\n",
       "      <th></th>\n",
       "      <th>gender</th>\n",
       "      <th>SeniorCitizen</th>\n",
       "      <th>Partner</th>\n",
       "      <th>Dependents</th>\n",
       "      <th>tenure</th>\n",
       "      <th>PhoneService</th>\n",
       "      <th>MultipleLines</th>\n",
       "      <th>InternetService</th>\n",
       "      <th>OnlineSecurity</th>\n",
       "      <th>OnlineBackup</th>\n",
       "      <th>DeviceProtection</th>\n",
       "      <th>TechSupport</th>\n",
       "      <th>StreamingTV</th>\n",
       "      <th>StreamingMovies</th>\n",
       "      <th>Contract</th>\n",
       "      <th>PaperlessBilling</th>\n",
       "      <th>PaymentMethod</th>\n",
       "      <th>MonthlyCharges</th>\n",
       "      <th>TotalCharges</th>\n",
       "      <th>Churn</th>\n",
       "    </tr>\n",
       "  </thead>\n",
       "  <tbody>\n",
       "    <tr>\n",
       "      <th>488</th>\n",
       "      <td>Female</td>\n",
       "      <td>0</td>\n",
       "      <td>Yes</td>\n",
       "      <td>Yes</td>\n",
       "      <td>0</td>\n",
       "      <td>No</td>\n",
       "      <td>No phone service</td>\n",
       "      <td>DSL</td>\n",
       "      <td>Yes</td>\n",
       "      <td>No</td>\n",
       "      <td>Yes</td>\n",
       "      <td>Yes</td>\n",
       "      <td>Yes</td>\n",
       "      <td>No</td>\n",
       "      <td>Two year</td>\n",
       "      <td>Yes</td>\n",
       "      <td>Bank transfer (automatic)</td>\n",
       "      <td>52.55</td>\n",
       "      <td></td>\n",
       "      <td>No</td>\n",
       "    </tr>\n",
       "    <tr>\n",
       "      <th>753</th>\n",
       "      <td>Male</td>\n",
       "      <td>0</td>\n",
       "      <td>No</td>\n",
       "      <td>Yes</td>\n",
       "      <td>0</td>\n",
       "      <td>Yes</td>\n",
       "      <td>No</td>\n",
       "      <td>No</td>\n",
       "      <td>No internet service</td>\n",
       "      <td>No internet service</td>\n",
       "      <td>No internet service</td>\n",
       "      <td>No internet service</td>\n",
       "      <td>No internet service</td>\n",
       "      <td>No internet service</td>\n",
       "      <td>Two year</td>\n",
       "      <td>No</td>\n",
       "      <td>Mailed check</td>\n",
       "      <td>20.25</td>\n",
       "      <td></td>\n",
       "      <td>No</td>\n",
       "    </tr>\n",
       "    <tr>\n",
       "      <th>936</th>\n",
       "      <td>Female</td>\n",
       "      <td>0</td>\n",
       "      <td>Yes</td>\n",
       "      <td>Yes</td>\n",
       "      <td>0</td>\n",
       "      <td>Yes</td>\n",
       "      <td>No</td>\n",
       "      <td>DSL</td>\n",
       "      <td>Yes</td>\n",
       "      <td>Yes</td>\n",
       "      <td>Yes</td>\n",
       "      <td>No</td>\n",
       "      <td>Yes</td>\n",
       "      <td>Yes</td>\n",
       "      <td>Two year</td>\n",
       "      <td>No</td>\n",
       "      <td>Mailed check</td>\n",
       "      <td>80.85</td>\n",
       "      <td></td>\n",
       "      <td>No</td>\n",
       "    </tr>\n",
       "    <tr>\n",
       "      <th>1082</th>\n",
       "      <td>Male</td>\n",
       "      <td>0</td>\n",
       "      <td>Yes</td>\n",
       "      <td>Yes</td>\n",
       "      <td>0</td>\n",
       "      <td>Yes</td>\n",
       "      <td>Yes</td>\n",
       "      <td>No</td>\n",
       "      <td>No internet service</td>\n",
       "      <td>No internet service</td>\n",
       "      <td>No internet service</td>\n",
       "      <td>No internet service</td>\n",
       "      <td>No internet service</td>\n",
       "      <td>No internet service</td>\n",
       "      <td>Two year</td>\n",
       "      <td>No</td>\n",
       "      <td>Mailed check</td>\n",
       "      <td>25.75</td>\n",
       "      <td></td>\n",
       "      <td>No</td>\n",
       "    </tr>\n",
       "    <tr>\n",
       "      <th>1340</th>\n",
       "      <td>Female</td>\n",
       "      <td>0</td>\n",
       "      <td>Yes</td>\n",
       "      <td>Yes</td>\n",
       "      <td>0</td>\n",
       "      <td>No</td>\n",
       "      <td>No phone service</td>\n",
       "      <td>DSL</td>\n",
       "      <td>Yes</td>\n",
       "      <td>Yes</td>\n",
       "      <td>Yes</td>\n",
       "      <td>Yes</td>\n",
       "      <td>Yes</td>\n",
       "      <td>No</td>\n",
       "      <td>Two year</td>\n",
       "      <td>No</td>\n",
       "      <td>Credit card (automatic)</td>\n",
       "      <td>56.05</td>\n",
       "      <td></td>\n",
       "      <td>No</td>\n",
       "    </tr>\n",
       "    <tr>\n",
       "      <th>3331</th>\n",
       "      <td>Male</td>\n",
       "      <td>0</td>\n",
       "      <td>Yes</td>\n",
       "      <td>Yes</td>\n",
       "      <td>0</td>\n",
       "      <td>Yes</td>\n",
       "      <td>No</td>\n",
       "      <td>No</td>\n",
       "      <td>No internet service</td>\n",
       "      <td>No internet service</td>\n",
       "      <td>No internet service</td>\n",
       "      <td>No internet service</td>\n",
       "      <td>No internet service</td>\n",
       "      <td>No internet service</td>\n",
       "      <td>Two year</td>\n",
       "      <td>No</td>\n",
       "      <td>Mailed check</td>\n",
       "      <td>19.85</td>\n",
       "      <td></td>\n",
       "      <td>No</td>\n",
       "    </tr>\n",
       "    <tr>\n",
       "      <th>3826</th>\n",
       "      <td>Male</td>\n",
       "      <td>0</td>\n",
       "      <td>Yes</td>\n",
       "      <td>Yes</td>\n",
       "      <td>0</td>\n",
       "      <td>Yes</td>\n",
       "      <td>Yes</td>\n",
       "      <td>No</td>\n",
       "      <td>No internet service</td>\n",
       "      <td>No internet service</td>\n",
       "      <td>No internet service</td>\n",
       "      <td>No internet service</td>\n",
       "      <td>No internet service</td>\n",
       "      <td>No internet service</td>\n",
       "      <td>Two year</td>\n",
       "      <td>No</td>\n",
       "      <td>Mailed check</td>\n",
       "      <td>25.35</td>\n",
       "      <td></td>\n",
       "      <td>No</td>\n",
       "    </tr>\n",
       "    <tr>\n",
       "      <th>4380</th>\n",
       "      <td>Female</td>\n",
       "      <td>0</td>\n",
       "      <td>Yes</td>\n",
       "      <td>Yes</td>\n",
       "      <td>0</td>\n",
       "      <td>Yes</td>\n",
       "      <td>No</td>\n",
       "      <td>No</td>\n",
       "      <td>No internet service</td>\n",
       "      <td>No internet service</td>\n",
       "      <td>No internet service</td>\n",
       "      <td>No internet service</td>\n",
       "      <td>No internet service</td>\n",
       "      <td>No internet service</td>\n",
       "      <td>Two year</td>\n",
       "      <td>No</td>\n",
       "      <td>Mailed check</td>\n",
       "      <td>20.00</td>\n",
       "      <td></td>\n",
       "      <td>No</td>\n",
       "    </tr>\n",
       "    <tr>\n",
       "      <th>5218</th>\n",
       "      <td>Male</td>\n",
       "      <td>0</td>\n",
       "      <td>Yes</td>\n",
       "      <td>Yes</td>\n",
       "      <td>0</td>\n",
       "      <td>Yes</td>\n",
       "      <td>No</td>\n",
       "      <td>No</td>\n",
       "      <td>No internet service</td>\n",
       "      <td>No internet service</td>\n",
       "      <td>No internet service</td>\n",
       "      <td>No internet service</td>\n",
       "      <td>No internet service</td>\n",
       "      <td>No internet service</td>\n",
       "      <td>One year</td>\n",
       "      <td>Yes</td>\n",
       "      <td>Mailed check</td>\n",
       "      <td>19.70</td>\n",
       "      <td></td>\n",
       "      <td>No</td>\n",
       "    </tr>\n",
       "    <tr>\n",
       "      <th>6670</th>\n",
       "      <td>Female</td>\n",
       "      <td>0</td>\n",
       "      <td>Yes</td>\n",
       "      <td>Yes</td>\n",
       "      <td>0</td>\n",
       "      <td>Yes</td>\n",
       "      <td>Yes</td>\n",
       "      <td>DSL</td>\n",
       "      <td>No</td>\n",
       "      <td>Yes</td>\n",
       "      <td>Yes</td>\n",
       "      <td>Yes</td>\n",
       "      <td>Yes</td>\n",
       "      <td>No</td>\n",
       "      <td>Two year</td>\n",
       "      <td>No</td>\n",
       "      <td>Mailed check</td>\n",
       "      <td>73.35</td>\n",
       "      <td></td>\n",
       "      <td>No</td>\n",
       "    </tr>\n",
       "    <tr>\n",
       "      <th>6754</th>\n",
       "      <td>Male</td>\n",
       "      <td>0</td>\n",
       "      <td>No</td>\n",
       "      <td>Yes</td>\n",
       "      <td>0</td>\n",
       "      <td>Yes</td>\n",
       "      <td>Yes</td>\n",
       "      <td>DSL</td>\n",
       "      <td>Yes</td>\n",
       "      <td>Yes</td>\n",
       "      <td>No</td>\n",
       "      <td>Yes</td>\n",
       "      <td>No</td>\n",
       "      <td>No</td>\n",
       "      <td>Two year</td>\n",
       "      <td>Yes</td>\n",
       "      <td>Bank transfer (automatic)</td>\n",
       "      <td>61.90</td>\n",
       "      <td></td>\n",
       "      <td>No</td>\n",
       "    </tr>\n",
       "  </tbody>\n",
       "</table>\n",
       "</div>"
      ],
      "text/plain": [
       "      gender  SeniorCitizen Partner Dependents  tenure PhoneService  \\\n",
       "488   Female              0     Yes        Yes       0           No   \n",
       "753     Male              0      No        Yes       0          Yes   \n",
       "936   Female              0     Yes        Yes       0          Yes   \n",
       "1082    Male              0     Yes        Yes       0          Yes   \n",
       "1340  Female              0     Yes        Yes       0           No   \n",
       "3331    Male              0     Yes        Yes       0          Yes   \n",
       "3826    Male              0     Yes        Yes       0          Yes   \n",
       "4380  Female              0     Yes        Yes       0          Yes   \n",
       "5218    Male              0     Yes        Yes       0          Yes   \n",
       "6670  Female              0     Yes        Yes       0          Yes   \n",
       "6754    Male              0      No        Yes       0          Yes   \n",
       "\n",
       "         MultipleLines InternetService       OnlineSecurity  \\\n",
       "488   No phone service             DSL                  Yes   \n",
       "753                 No              No  No internet service   \n",
       "936                 No             DSL                  Yes   \n",
       "1082               Yes              No  No internet service   \n",
       "1340  No phone service             DSL                  Yes   \n",
       "3331                No              No  No internet service   \n",
       "3826               Yes              No  No internet service   \n",
       "4380                No              No  No internet service   \n",
       "5218                No              No  No internet service   \n",
       "6670               Yes             DSL                   No   \n",
       "6754               Yes             DSL                  Yes   \n",
       "\n",
       "             OnlineBackup     DeviceProtection          TechSupport  \\\n",
       "488                    No                  Yes                  Yes   \n",
       "753   No internet service  No internet service  No internet service   \n",
       "936                   Yes                  Yes                   No   \n",
       "1082  No internet service  No internet service  No internet service   \n",
       "1340                  Yes                  Yes                  Yes   \n",
       "3331  No internet service  No internet service  No internet service   \n",
       "3826  No internet service  No internet service  No internet service   \n",
       "4380  No internet service  No internet service  No internet service   \n",
       "5218  No internet service  No internet service  No internet service   \n",
       "6670                  Yes                  Yes                  Yes   \n",
       "6754                  Yes                   No                  Yes   \n",
       "\n",
       "              StreamingTV      StreamingMovies  Contract PaperlessBilling  \\\n",
       "488                   Yes                   No  Two year              Yes   \n",
       "753   No internet service  No internet service  Two year               No   \n",
       "936                   Yes                  Yes  Two year               No   \n",
       "1082  No internet service  No internet service  Two year               No   \n",
       "1340                  Yes                   No  Two year               No   \n",
       "3331  No internet service  No internet service  Two year               No   \n",
       "3826  No internet service  No internet service  Two year               No   \n",
       "4380  No internet service  No internet service  Two year               No   \n",
       "5218  No internet service  No internet service  One year              Yes   \n",
       "6670                  Yes                   No  Two year               No   \n",
       "6754                   No                   No  Two year              Yes   \n",
       "\n",
       "                  PaymentMethod  MonthlyCharges TotalCharges Churn  \n",
       "488   Bank transfer (automatic)           52.55                 No  \n",
       "753                Mailed check           20.25                 No  \n",
       "936                Mailed check           80.85                 No  \n",
       "1082               Mailed check           25.75                 No  \n",
       "1340    Credit card (automatic)           56.05                 No  \n",
       "3331               Mailed check           19.85                 No  \n",
       "3826               Mailed check           25.35                 No  \n",
       "4380               Mailed check           20.00                 No  \n",
       "5218               Mailed check           19.70                 No  \n",
       "6670               Mailed check           73.35                 No  \n",
       "6754  Bank transfer (automatic)           61.90                 No  "
      ]
     },
     "execution_count": 12,
     "metadata": {},
     "output_type": "execute_result"
    }
   ],
   "source": [
    "## find index where TotalCharges is not a number\n",
    "data[pd.to_numeric(data['TotalCharges'], errors='coerce').isnull()]\n",
    "\n",
    "## TotalCharges is blank for these rows, so we can fill it with null or 0"
   ]
  },
  {
   "cell_type": "code",
   "execution_count": 13,
   "id": "6a583d1b",
   "metadata": {},
   "outputs": [],
   "source": [
    "### Investigating why TotalCharges is not numeric\n",
    "data['TotalCharges'] = pd.to_numeric(data['TotalCharges'], errors='coerce')"
   ]
  },
  {
   "cell_type": "code",
   "execution_count": 14,
   "id": "79cd1c44",
   "metadata": {},
   "outputs": [
    {
     "data": {
      "text/plain": [
       "np.int64(11)"
      ]
     },
     "execution_count": 14,
     "metadata": {},
     "output_type": "execute_result"
    }
   ],
   "source": [
    "data['TotalCharges'].isnull().sum() # There are still 11 null values in TotalCharges after conversion"
   ]
  },
  {
   "cell_type": "code",
   "execution_count": 15,
   "id": "c8968965",
   "metadata": {},
   "outputs": [
    {
     "data": {
      "text/html": [
       "<div>\n",
       "<style scoped>\n",
       "    .dataframe tbody tr th:only-of-type {\n",
       "        vertical-align: middle;\n",
       "    }\n",
       "\n",
       "    .dataframe tbody tr th {\n",
       "        vertical-align: top;\n",
       "    }\n",
       "\n",
       "    .dataframe thead th {\n",
       "        text-align: right;\n",
       "    }\n",
       "</style>\n",
       "<table border=\"1\" class=\"dataframe\">\n",
       "  <thead>\n",
       "    <tr style=\"text-align: right;\">\n",
       "      <th></th>\n",
       "      <th>tenure</th>\n",
       "      <th>MonthlyCharges</th>\n",
       "      <th>TotalCharges</th>\n",
       "    </tr>\n",
       "  </thead>\n",
       "  <tbody>\n",
       "    <tr>\n",
       "      <th>488</th>\n",
       "      <td>0</td>\n",
       "      <td>52.55</td>\n",
       "      <td>NaN</td>\n",
       "    </tr>\n",
       "    <tr>\n",
       "      <th>753</th>\n",
       "      <td>0</td>\n",
       "      <td>20.25</td>\n",
       "      <td>NaN</td>\n",
       "    </tr>\n",
       "    <tr>\n",
       "      <th>936</th>\n",
       "      <td>0</td>\n",
       "      <td>80.85</td>\n",
       "      <td>NaN</td>\n",
       "    </tr>\n",
       "    <tr>\n",
       "      <th>1082</th>\n",
       "      <td>0</td>\n",
       "      <td>25.75</td>\n",
       "      <td>NaN</td>\n",
       "    </tr>\n",
       "    <tr>\n",
       "      <th>1340</th>\n",
       "      <td>0</td>\n",
       "      <td>56.05</td>\n",
       "      <td>NaN</td>\n",
       "    </tr>\n",
       "    <tr>\n",
       "      <th>3331</th>\n",
       "      <td>0</td>\n",
       "      <td>19.85</td>\n",
       "      <td>NaN</td>\n",
       "    </tr>\n",
       "    <tr>\n",
       "      <th>3826</th>\n",
       "      <td>0</td>\n",
       "      <td>25.35</td>\n",
       "      <td>NaN</td>\n",
       "    </tr>\n",
       "    <tr>\n",
       "      <th>4380</th>\n",
       "      <td>0</td>\n",
       "      <td>20.00</td>\n",
       "      <td>NaN</td>\n",
       "    </tr>\n",
       "    <tr>\n",
       "      <th>5218</th>\n",
       "      <td>0</td>\n",
       "      <td>19.70</td>\n",
       "      <td>NaN</td>\n",
       "    </tr>\n",
       "    <tr>\n",
       "      <th>6670</th>\n",
       "      <td>0</td>\n",
       "      <td>73.35</td>\n",
       "      <td>NaN</td>\n",
       "    </tr>\n",
       "    <tr>\n",
       "      <th>6754</th>\n",
       "      <td>0</td>\n",
       "      <td>61.90</td>\n",
       "      <td>NaN</td>\n",
       "    </tr>\n",
       "  </tbody>\n",
       "</table>\n",
       "</div>"
      ],
      "text/plain": [
       "      tenure  MonthlyCharges  TotalCharges\n",
       "488        0           52.55           NaN\n",
       "753        0           20.25           NaN\n",
       "936        0           80.85           NaN\n",
       "1082       0           25.75           NaN\n",
       "1340       0           56.05           NaN\n",
       "3331       0           19.85           NaN\n",
       "3826       0           25.35           NaN\n",
       "4380       0           20.00           NaN\n",
       "5218       0           19.70           NaN\n",
       "6670       0           73.35           NaN\n",
       "6754       0           61.90           NaN"
      ]
     },
     "execution_count": 15,
     "metadata": {},
     "output_type": "execute_result"
    }
   ],
   "source": [
    "data[data['TotalCharges'].isnull()==True][['tenure','MonthlyCharges','TotalCharges']]"
   ]
  },
  {
   "cell_type": "code",
   "execution_count": 16,
   "id": "3c28d3c0",
   "metadata": {},
   "outputs": [
    {
     "data": {
      "text/html": [
       "<div>\n",
       "<style scoped>\n",
       "    .dataframe tbody tr th:only-of-type {\n",
       "        vertical-align: middle;\n",
       "    }\n",
       "\n",
       "    .dataframe tbody tr th {\n",
       "        vertical-align: top;\n",
       "    }\n",
       "\n",
       "    .dataframe thead th {\n",
       "        text-align: right;\n",
       "    }\n",
       "</style>\n",
       "<table border=\"1\" class=\"dataframe\">\n",
       "  <thead>\n",
       "    <tr style=\"text-align: right;\">\n",
       "      <th></th>\n",
       "      <th>tenure</th>\n",
       "      <th>MonthlyCharges</th>\n",
       "      <th>TotalCharges</th>\n",
       "    </tr>\n",
       "  </thead>\n",
       "  <tbody>\n",
       "    <tr>\n",
       "      <th>0</th>\n",
       "      <td>1</td>\n",
       "      <td>29.85</td>\n",
       "      <td>29.85</td>\n",
       "    </tr>\n",
       "    <tr>\n",
       "      <th>1</th>\n",
       "      <td>34</td>\n",
       "      <td>56.95</td>\n",
       "      <td>1889.50</td>\n",
       "    </tr>\n",
       "    <tr>\n",
       "      <th>2</th>\n",
       "      <td>2</td>\n",
       "      <td>53.85</td>\n",
       "      <td>108.15</td>\n",
       "    </tr>\n",
       "    <tr>\n",
       "      <th>3</th>\n",
       "      <td>45</td>\n",
       "      <td>42.30</td>\n",
       "      <td>1840.75</td>\n",
       "    </tr>\n",
       "    <tr>\n",
       "      <th>4</th>\n",
       "      <td>2</td>\n",
       "      <td>70.70</td>\n",
       "      <td>151.65</td>\n",
       "    </tr>\n",
       "    <tr>\n",
       "      <th>5</th>\n",
       "      <td>8</td>\n",
       "      <td>99.65</td>\n",
       "      <td>820.50</td>\n",
       "    </tr>\n",
       "    <tr>\n",
       "      <th>6</th>\n",
       "      <td>22</td>\n",
       "      <td>89.10</td>\n",
       "      <td>1949.40</td>\n",
       "    </tr>\n",
       "    <tr>\n",
       "      <th>7</th>\n",
       "      <td>10</td>\n",
       "      <td>29.75</td>\n",
       "      <td>301.90</td>\n",
       "    </tr>\n",
       "    <tr>\n",
       "      <th>8</th>\n",
       "      <td>28</td>\n",
       "      <td>104.80</td>\n",
       "      <td>3046.05</td>\n",
       "    </tr>\n",
       "    <tr>\n",
       "      <th>9</th>\n",
       "      <td>62</td>\n",
       "      <td>56.15</td>\n",
       "      <td>3487.95</td>\n",
       "    </tr>\n",
       "  </tbody>\n",
       "</table>\n",
       "</div>"
      ],
      "text/plain": [
       "   tenure  MonthlyCharges  TotalCharges\n",
       "0       1           29.85         29.85\n",
       "1      34           56.95       1889.50\n",
       "2       2           53.85        108.15\n",
       "3      45           42.30       1840.75\n",
       "4       2           70.70        151.65\n",
       "5       8           99.65        820.50\n",
       "6      22           89.10       1949.40\n",
       "7      10           29.75        301.90\n",
       "8      28          104.80       3046.05\n",
       "9      62           56.15       3487.95"
      ]
     },
     "execution_count": 16,
     "metadata": {},
     "output_type": "execute_result"
    }
   ],
   "source": [
    "data[data['TotalCharges'].isnull()==False][['tenure','MonthlyCharges','TotalCharges']].head(10)"
   ]
  },
  {
   "cell_type": "markdown",
   "id": "814754a7",
   "metadata": {},
   "source": [
    "Total Charges  = Tenure * Monthly Charges , After coercing to numeric, the NaN values in TotalCharges can be filled with the product of tenure and MonthlyCharges. \n",
    "- But the tenure column is 0. Since the tenure is 0, it means that these customers have not been with the company long enough to incur any charges, hence TotalCharges is NaN.\n",
    "- We can fill these NaN values with 0, as they represent customers who have not been charged anything yet."
   ]
  },
  {
   "cell_type": "code",
   "execution_count": 17,
   "id": "c75e7c8a",
   "metadata": {},
   "outputs": [],
   "source": [
    "data['TotalCharges'].fillna(0, inplace=True)"
   ]
  },
  {
   "cell_type": "code",
   "execution_count": 18,
   "id": "aa0d820c",
   "metadata": {},
   "outputs": [],
   "source": [
    "## Remapping categorical variables and numerical variables\n",
    "categorical_cols = data.select_dtypes(include=['object']).columns.tolist()\n",
    "numerical_cols = data.select_dtypes(include=['number']).columns.tolist()"
   ]
  },
  {
   "cell_type": "code",
   "execution_count": 19,
   "id": "4f0a933c",
   "metadata": {},
   "outputs": [
    {
     "data": {
      "text/plain": [
       "['SeniorCitizen', 'tenure', 'MonthlyCharges', 'TotalCharges']"
      ]
     },
     "execution_count": 19,
     "metadata": {},
     "output_type": "execute_result"
    }
   ],
   "source": [
    "numerical_cols"
   ]
  },
  {
   "cell_type": "code",
   "execution_count": 20,
   "id": "a7d1fa56",
   "metadata": {},
   "outputs": [
    {
     "data": {
      "text/plain": [
       "array([0, 1])"
      ]
     },
     "execution_count": 20,
     "metadata": {},
     "output_type": "execute_result"
    }
   ],
   "source": [
    "data['SeniorCitizen'].unique()\n",
    "\n",
    "## senior citizen is a binary variable"
   ]
  },
  {
   "cell_type": "code",
   "execution_count": 21,
   "id": "54030871",
   "metadata": {},
   "outputs": [
    {
     "name": "stdout",
     "output_type": "stream",
     "text": [
      "Categorical Columns and their unique values:\n",
      "gender ['Female' 'Male']\n",
      "Partner ['Yes' 'No']\n",
      "Dependents ['No' 'Yes']\n",
      "PhoneService ['No' 'Yes']\n",
      "MultipleLines ['No phone service' 'No' 'Yes']\n",
      "InternetService ['DSL' 'Fiber optic' 'No']\n",
      "OnlineSecurity ['No' 'Yes' 'No internet service']\n",
      "OnlineBackup ['Yes' 'No' 'No internet service']\n",
      "DeviceProtection ['No' 'Yes' 'No internet service']\n",
      "TechSupport ['No' 'Yes' 'No internet service']\n",
      "StreamingTV ['No' 'Yes' 'No internet service']\n",
      "StreamingMovies ['No' 'Yes' 'No internet service']\n",
      "Contract ['Month-to-month' 'One year' 'Two year']\n",
      "PaperlessBilling ['Yes' 'No']\n",
      "PaymentMethod ['Electronic check' 'Mailed check' 'Bank transfer (automatic)'\n",
      " 'Credit card (automatic)']\n",
      "Churn ['No' 'Yes']\n"
     ]
    }
   ],
   "source": [
    "## Lets find the unique values in each categorical column and see if they need to be remapped\n",
    "print(\"Categorical Columns and their unique values:\")\n",
    "\n",
    "for col in categorical_cols:\n",
    "    print(col, data[col].unique())"
   ]
  },
  {
   "cell_type": "markdown",
   "id": "5486eef2",
   "metadata": {},
   "source": [
    "- Map Yes/ No to 1/0\n",
    "- To handle the columns with [yes, no, No internet service]\n",
    "    - you can assume No internet service means no backup, support etc is needed. Combine with No and map to 1/0\n",
    "    - if you suspect different behaviors for No and No internet service, you can perform one hot encoding.\n",
    "\n",
    "I'm choosing to perform one hot encoding"
   ]
  },
  {
   "cell_type": "code",
   "execution_count": 22,
   "id": "03287f12",
   "metadata": {},
   "outputs": [],
   "source": [
    "for col in ['Partner', 'Dependents', 'PhoneService', 'PaperlessBilling', 'Churn']:\n",
    "    data[col] = data[col].map({'Yes': 1, 'No': 0})"
   ]
  },
  {
   "cell_type": "markdown",
   "id": "5cd13811",
   "metadata": {},
   "source": [
    "Using One Hot Encoding techniques to convert the remaining categorical columns"
   ]
  },
  {
   "cell_type": "code",
   "execution_count": 23,
   "id": "d5356db0",
   "metadata": {},
   "outputs": [],
   "source": [
    "\n",
    "for col in ['gender','MultipleLines', 'InternetService', 'OnlineSecurity', \n",
    "            'OnlineBackup', 'DeviceProtection', 'TechSupport', \n",
    "            'StreamingTV', 'StreamingMovies','Contract','PaymentMethod' ]:\n",
    "    dummies = pd.get_dummies(data[col], prefix=col, drop_first=False).astype(int)\n",
    "    data = pd.concat([data, dummies], axis=1)\n",
    "    data.drop(columns=[col], inplace=True)\n",
    "    "
   ]
  },
  {
   "cell_type": "code",
   "execution_count": 24,
   "id": "0b6e7d26",
   "metadata": {},
   "outputs": [
    {
     "data": {
      "text/html": [
       "<div>\n",
       "<style scoped>\n",
       "    .dataframe tbody tr th:only-of-type {\n",
       "        vertical-align: middle;\n",
       "    }\n",
       "\n",
       "    .dataframe tbody tr th {\n",
       "        vertical-align: top;\n",
       "    }\n",
       "\n",
       "    .dataframe thead th {\n",
       "        text-align: right;\n",
       "    }\n",
       "</style>\n",
       "<table border=\"1\" class=\"dataframe\">\n",
       "  <thead>\n",
       "    <tr style=\"text-align: right;\">\n",
       "      <th></th>\n",
       "      <th>SeniorCitizen</th>\n",
       "      <th>Partner</th>\n",
       "      <th>Dependents</th>\n",
       "      <th>tenure</th>\n",
       "      <th>PhoneService</th>\n",
       "      <th>PaperlessBilling</th>\n",
       "      <th>MonthlyCharges</th>\n",
       "      <th>TotalCharges</th>\n",
       "      <th>Churn</th>\n",
       "      <th>gender_Female</th>\n",
       "      <th>...</th>\n",
       "      <th>StreamingMovies_No</th>\n",
       "      <th>StreamingMovies_No internet service</th>\n",
       "      <th>StreamingMovies_Yes</th>\n",
       "      <th>Contract_Month-to-month</th>\n",
       "      <th>Contract_One year</th>\n",
       "      <th>Contract_Two year</th>\n",
       "      <th>PaymentMethod_Bank transfer (automatic)</th>\n",
       "      <th>PaymentMethod_Credit card (automatic)</th>\n",
       "      <th>PaymentMethod_Electronic check</th>\n",
       "      <th>PaymentMethod_Mailed check</th>\n",
       "    </tr>\n",
       "  </thead>\n",
       "  <tbody>\n",
       "    <tr>\n",
       "      <th>0</th>\n",
       "      <td>0</td>\n",
       "      <td>1</td>\n",
       "      <td>0</td>\n",
       "      <td>1</td>\n",
       "      <td>0</td>\n",
       "      <td>1</td>\n",
       "      <td>29.85</td>\n",
       "      <td>29.85</td>\n",
       "      <td>0</td>\n",
       "      <td>1</td>\n",
       "      <td>...</td>\n",
       "      <td>1</td>\n",
       "      <td>0</td>\n",
       "      <td>0</td>\n",
       "      <td>1</td>\n",
       "      <td>0</td>\n",
       "      <td>0</td>\n",
       "      <td>0</td>\n",
       "      <td>0</td>\n",
       "      <td>1</td>\n",
       "      <td>0</td>\n",
       "    </tr>\n",
       "    <tr>\n",
       "      <th>1</th>\n",
       "      <td>0</td>\n",
       "      <td>0</td>\n",
       "      <td>0</td>\n",
       "      <td>34</td>\n",
       "      <td>1</td>\n",
       "      <td>0</td>\n",
       "      <td>56.95</td>\n",
       "      <td>1889.50</td>\n",
       "      <td>0</td>\n",
       "      <td>0</td>\n",
       "      <td>...</td>\n",
       "      <td>1</td>\n",
       "      <td>0</td>\n",
       "      <td>0</td>\n",
       "      <td>0</td>\n",
       "      <td>1</td>\n",
       "      <td>0</td>\n",
       "      <td>0</td>\n",
       "      <td>0</td>\n",
       "      <td>0</td>\n",
       "      <td>1</td>\n",
       "    </tr>\n",
       "    <tr>\n",
       "      <th>2</th>\n",
       "      <td>0</td>\n",
       "      <td>0</td>\n",
       "      <td>0</td>\n",
       "      <td>2</td>\n",
       "      <td>1</td>\n",
       "      <td>1</td>\n",
       "      <td>53.85</td>\n",
       "      <td>108.15</td>\n",
       "      <td>1</td>\n",
       "      <td>0</td>\n",
       "      <td>...</td>\n",
       "      <td>1</td>\n",
       "      <td>0</td>\n",
       "      <td>0</td>\n",
       "      <td>1</td>\n",
       "      <td>0</td>\n",
       "      <td>0</td>\n",
       "      <td>0</td>\n",
       "      <td>0</td>\n",
       "      <td>0</td>\n",
       "      <td>1</td>\n",
       "    </tr>\n",
       "    <tr>\n",
       "      <th>3</th>\n",
       "      <td>0</td>\n",
       "      <td>0</td>\n",
       "      <td>0</td>\n",
       "      <td>45</td>\n",
       "      <td>0</td>\n",
       "      <td>0</td>\n",
       "      <td>42.30</td>\n",
       "      <td>1840.75</td>\n",
       "      <td>0</td>\n",
       "      <td>0</td>\n",
       "      <td>...</td>\n",
       "      <td>1</td>\n",
       "      <td>0</td>\n",
       "      <td>0</td>\n",
       "      <td>0</td>\n",
       "      <td>1</td>\n",
       "      <td>0</td>\n",
       "      <td>1</td>\n",
       "      <td>0</td>\n",
       "      <td>0</td>\n",
       "      <td>0</td>\n",
       "    </tr>\n",
       "    <tr>\n",
       "      <th>4</th>\n",
       "      <td>0</td>\n",
       "      <td>0</td>\n",
       "      <td>0</td>\n",
       "      <td>2</td>\n",
       "      <td>1</td>\n",
       "      <td>1</td>\n",
       "      <td>70.70</td>\n",
       "      <td>151.65</td>\n",
       "      <td>1</td>\n",
       "      <td>1</td>\n",
       "      <td>...</td>\n",
       "      <td>1</td>\n",
       "      <td>0</td>\n",
       "      <td>0</td>\n",
       "      <td>1</td>\n",
       "      <td>0</td>\n",
       "      <td>0</td>\n",
       "      <td>0</td>\n",
       "      <td>0</td>\n",
       "      <td>1</td>\n",
       "      <td>0</td>\n",
       "    </tr>\n",
       "  </tbody>\n",
       "</table>\n",
       "<p>5 rows × 42 columns</p>\n",
       "</div>"
      ],
      "text/plain": [
       "   SeniorCitizen  Partner  Dependents  tenure  PhoneService  PaperlessBilling  \\\n",
       "0              0        1           0       1             0                 1   \n",
       "1              0        0           0      34             1                 0   \n",
       "2              0        0           0       2             1                 1   \n",
       "3              0        0           0      45             0                 0   \n",
       "4              0        0           0       2             1                 1   \n",
       "\n",
       "   MonthlyCharges  TotalCharges  Churn  gender_Female  ...  \\\n",
       "0           29.85         29.85      0              1  ...   \n",
       "1           56.95       1889.50      0              0  ...   \n",
       "2           53.85        108.15      1              0  ...   \n",
       "3           42.30       1840.75      0              0  ...   \n",
       "4           70.70        151.65      1              1  ...   \n",
       "\n",
       "   StreamingMovies_No  StreamingMovies_No internet service  \\\n",
       "0                   1                                    0   \n",
       "1                   1                                    0   \n",
       "2                   1                                    0   \n",
       "3                   1                                    0   \n",
       "4                   1                                    0   \n",
       "\n",
       "   StreamingMovies_Yes  Contract_Month-to-month  Contract_One year  \\\n",
       "0                    0                        1                  0   \n",
       "1                    0                        0                  1   \n",
       "2                    0                        1                  0   \n",
       "3                    0                        0                  1   \n",
       "4                    0                        1                  0   \n",
       "\n",
       "   Contract_Two year  PaymentMethod_Bank transfer (automatic)  \\\n",
       "0                  0                                        0   \n",
       "1                  0                                        0   \n",
       "2                  0                                        0   \n",
       "3                  0                                        1   \n",
       "4                  0                                        0   \n",
       "\n",
       "   PaymentMethod_Credit card (automatic)  PaymentMethod_Electronic check  \\\n",
       "0                                      0                               1   \n",
       "1                                      0                               0   \n",
       "2                                      0                               0   \n",
       "3                                      0                               0   \n",
       "4                                      0                               1   \n",
       "\n",
       "   PaymentMethod_Mailed check  \n",
       "0                           0  \n",
       "1                           1  \n",
       "2                           1  \n",
       "3                           0  \n",
       "4                           0  \n",
       "\n",
       "[5 rows x 42 columns]"
      ]
     },
     "execution_count": 24,
     "metadata": {},
     "output_type": "execute_result"
    }
   ],
   "source": [
    "data.head()"
   ]
  },
  {
   "cell_type": "markdown",
   "id": "4cbf9a1f",
   "metadata": {},
   "source": [
    "## EDA\n"
   ]
  },
  {
   "cell_type": "code",
   "execution_count": 25,
   "id": "bfc0b681",
   "metadata": {},
   "outputs": [
    {
     "name": "stdout",
     "output_type": "stream",
     "text": [
      "gender_Female\n",
      "0    0.504756\n",
      "1    0.495244\n",
      "Name: proportion, dtype: float64\n"
     ]
    },
    {
     "data": {
      "text/plain": [
       "<function matplotlib.pyplot.ylabel(ylabel: 'str', fontdict: 'dict[str, Any] | None' = None, labelpad: 'float | None' = None, *, loc: \"Literal['bottom', 'center', 'top'] | None\" = None, **kwargs) -> 'Text'>"
      ]
     },
     "execution_count": 25,
     "metadata": {},
     "output_type": "execute_result"
    },
    {
     "data": {
      "image/png": "[encoded data removed]",
      "text/plain": [
       "<Figure size 640x480 with 1 Axes>"
      ]
     },
     "metadata": {},
     "output_type": "display_data"
    }
   ],
   "source": [
    "print(data['gender_Female'].value_counts(normalize=True))\n",
    "(data['gender_Female'].value_counts(normalize=True)).plot(kind='barh')\n",
    "plt.title('Gender Distribution')\n",
    "plt.xlabel('Percentage')\n",
    "plt.ylabel\n",
    "\n"
   ]
  },
  {
   "cell_type": "code",
   "execution_count": 26,
   "id": "e73a3552",
   "metadata": {},
   "outputs": [
    {
     "data": {
      "text/plain": [
       "Text(0.5, 1.0, '% of Senior Citizens')"
      ]
     },
     "execution_count": 26,
     "metadata": {},
     "output_type": "execute_result"
    },
    {
     "data": {
      "image/png": "[encoded data removed]",
      "text/plain": [
       "<Figure size 500x500 with 1 Axes>"
      ]
     },
     "metadata": {},
     "output_type": "display_data"
    }
   ],
   "source": [
    "data['SeniorCitizen'].value_counts(normalize=True).plot(kind='barh', figsize=(5, 5), fontsize=12)\n",
    "plt.ylabel('Senior Citizens', fontsize=12)\n",
    "plt.title('% of Senior Citizens', fontsize=12)"
   ]
  },
  {
   "cell_type": "code",
   "execution_count": 27,
   "id": "880500d5",
   "metadata": {},
   "outputs": [
    {
     "data": {
      "text/plain": [
       "<seaborn.axisgrid.FacetGrid at 0x160d80170>"
      ]
     },
     "execution_count": 27,
     "metadata": {},
     "output_type": "execute_result"
    },
    {
     "data": {
      "image/png": "[encoded data removed]",
      "text/plain": [
       "<Figure size 500x500 with 1 Axes>"
      ]
     },
     "metadata": {},
     "output_type": "display_data"
    }
   ],
   "source": [
    "sns.displot(data['tenure'], kde=True, bins=30)"
   ]
  },
  {
   "cell_type": "code",
   "execution_count": 28,
   "id": "740b6a8b",
   "metadata": {},
   "outputs": [
    {
     "data": {
      "image/png": "[encoded data removed]",
      "text/plain": [
       "<Figure size 1000x600 with 4 Axes>"
      ]
     },
     "metadata": {},
     "output_type": "display_data"
    }
   ],
   "source": [
    "import matplotlib.pyplot as plt\n",
    "\n",
    "# check distribution of values\n",
    "data[numerical_cols].hist(figsize=(10,6),bins = 15)\n",
    "plt.show()"
   ]
  },
  {
   "cell_type": "code",
   "execution_count": 29,
   "id": "452ae93e",
   "metadata": {},
   "outputs": [
    {
     "name": "stdout",
     "output_type": "stream",
     "text": [
      "Churn\n",
      "0    0.73463\n",
      "1    0.26537\n",
      "Name: proportion, dtype: float64\n"
     ]
    }
   ],
   "source": [
    "## Check Class Imbalance\n",
    "print(data['Churn'].value_counts(normalize=True))"
   ]
  },
  {
   "cell_type": "markdown",
   "id": "4b9ce473",
   "metadata": {},
   "source": [
    "This distribution tells us:\n",
    "- ~ 75% of users don't churn, suggesting imbalance. Choose training model and evaluation metrics appropriately"
   ]
  },
  {
   "cell_type": "code",
   "execution_count": 30,
   "id": "84df3100",
   "metadata": {},
   "outputs": [
    {
     "data": {
      "text/plain": [
       "<Axes: >"
      ]
     },
     "execution_count": 30,
     "metadata": {},
     "output_type": "execute_result"
    },
    {
     "data": {
      "image/png": "[encoded data removed]",
      "text/plain": [
       "<Figure size 1000x800 with 2 Axes>"
      ]
     },
     "metadata": {},
     "output_type": "display_data"
    }
   ],
   "source": [
    "## Insights into relationship between features and target variable\n",
    "# Churn rate    \n",
    "\n",
    "corr = data.corr()\n",
    "mask = np.triu(np.ones_like(corr, dtype=bool))\n",
    "plt.figure(figsize=(10, 8))\n",
    "cmap = sns.diverging_palette(230, 20, as_cmap=True)\n",
    "sns.heatmap(corr, mask=mask, cmap=cmap, vmax=.3,\n",
    "            center=0, square=True, linewidths=.5, cbar_kws={\"shrink\": .5})"
   ]
  },
  {
   "cell_type": "markdown",
   "id": "8a11204e",
   "metadata": {},
   "source": [
    "Churn Insights:\n",
    "\n",
    "- Churn has positive correlation with:\n",
    "\n",
    "- Contract_Month-to-month\n",
    "\n",
    "- PaymentMethod_Electronic check\n",
    "\n",
    "Churn has negative correlation with:\n",
    "\n",
    "- Contract_Two year\n",
    "\n",
    "- PaymentMethod_Bank transfer or Credit card\n",
    "\n",
    "These suggest users with longer-term contracts and automated payments are less likely to churn."
   ]
  },
  {
   "cell_type": "markdown",
   "id": "a7af80f2",
   "metadata": {},
   "source": [
    "## Modeling\n",
    "\n",
    "\n"
   ]
  },
  {
   "cell_type": "code",
   "execution_count": 31,
   "id": "7309ad07",
   "metadata": {},
   "outputs": [],
   "source": [
    "\n",
    "from sklearn.model_selection import train_test_split, cross_val_score\n",
    "from sklearn.metrics import accuracy_score, precision_recall_curve, precision_score, recall_score,f1_score,roc_auc_score, confusion_matrix,classification_report\n",
    "from sklearn.ensemble import RandomForestClassifier, GradientBoostingClassifier\n",
    "from xgboost import XGBClassifier\n",
    "from lightgbm import LGBMClassifier\n",
    "from imblearn.pipeline import Pipeline as ImbPipeline"
   ]
  },
  {
   "cell_type": "code",
   "execution_count": 32,
   "id": "07ed5ac0",
   "metadata": {},
   "outputs": [],
   "source": [
    "X = data.drop(columns='Churn', axis=1)\n",
    "y = data['Churn']"
   ]
  },
  {
   "cell_type": "code",
   "execution_count": 33,
   "id": "536e674b",
   "metadata": {},
   "outputs": [],
   "source": [
    "X_train, X_test, y_train,y_test =  train_test_split(X,y,test_size=0.3,random_state=101, stratify=y)\n"
   ]
  },
  {
   "cell_type": "code",
   "execution_count": 34,
   "id": "9ef102af",
   "metadata": {},
   "outputs": [
    {
     "name": "stdout",
     "output_type": "stream",
     "text": [
      "Churn\n",
      "0    3622\n",
      "1    1308\n",
      "Name: count, dtype: int64\n",
      "Class Imbalance Scale: 2.7691131498470947\n"
     ]
    }
   ],
   "source": [
    "\n",
    "print(y_train.value_counts())\n",
    "scale = y_train.value_counts()[0]/y_train.value_counts()[1]\n",
    "print(\"Class Imbalance Scale:\", scale)"
   ]
  },
  {
   "cell_type": "markdown",
   "id": "a17d6b08",
   "metadata": {},
   "source": [
    "The GradientBoostingClassifier from sklearn.ensemble does not have a direct parameter like scale_pos_weight (used in XGBoost or LightGBM) to handle class imbalance.\\\n",
    "handling the imbalance before training using SMOTE.\\\n",
    "NOTE: If using class_weight = 'balanced' or scale_pos_weight -> avoid using smote for those models and using both technoques will over compensate\n"
   ]
  },
  {
   "cell_type": "code",
   "execution_count": 35,
   "id": "b2a4eac4",
   "metadata": {},
   "outputs": [
    {
     "name": "stdout",
     "output_type": "stream",
     "text": [
      " ................... Training RandomForest ...............\n",
      "\n",
      "\n",
      "Pipeline(steps=[('classifier',\n",
      "                 RandomForestClassifier(class_weight='balanced', n_jobs=-1,\n",
      "                                        random_state=42))])\n",
      "RandomForest Performance\n",
      "  accuracy: 0.7856\n",
      "  precision: 0.6222\n",
      "  recall: 0.4902\n",
      "  F1-score: 0.5484\n",
      "  ROC-AUC score: 0.8150\n",
      "  Confusion Matrix: \n",
      "  [[1385  167]\n",
      " [ 286  275]]\n",
      "  Classification Report: \n",
      "               precision    recall  f1-score   support\n",
      "\n",
      "           0       0.83      0.89      0.86      1552\n",
      "           1       0.62      0.49      0.55       561\n",
      "\n",
      "    accuracy                           0.79      2113\n",
      "   macro avg       0.73      0.69      0.70      2113\n",
      "weighted avg       0.77      0.79      0.78      2113\n",
      "\n",
      "\n",
      "\n",
      "\n",
      " ................... Training GradientBoosting ...............\n",
      "\n",
      "\n",
      "Pipeline(steps=[('smote', SMOTE(random_state=42)),\n",
      "                ('classifier', GradientBoostingClassifier(random_state=42))])\n",
      "GradientBoosting Performance\n",
      "  accuracy: 0.7814\n",
      "  precision: 0.5838\n",
      "  recall: 0.6150\n",
      "  F1-score: 0.5990\n",
      "  ROC-AUC score: 0.8311\n",
      "  Confusion Matrix: \n",
      "  [[1306  246]\n",
      " [ 216  345]]\n",
      "  Classification Report: \n",
      "               precision    recall  f1-score   support\n",
      "\n",
      "           0       0.86      0.84      0.85      1552\n",
      "           1       0.58      0.61      0.60       561\n",
      "\n",
      "    accuracy                           0.78      2113\n",
      "   macro avg       0.72      0.73      0.72      2113\n",
      "weighted avg       0.79      0.78      0.78      2113\n",
      "\n",
      "\n",
      "\n",
      "\n",
      " ................... Training XGBClassifier ...............\n",
      "\n",
      "\n",
      "Pipeline(steps=[('classifier',\n",
      "                 XGBClassifier(base_score=None, booster=None, callbacks=None,\n",
      "                               colsample_bylevel=None, colsample_bynode=None,\n",
      "                               colsample_bytree=None, device=None,\n",
      "                               early_stopping_rounds=None,\n",
      "                               enable_categorical=False, eval_metric='logloss',\n",
      "                               feature_types=None, feature_weights=None,\n",
      "                               gamma=None, grow_policy=None,\n",
      "                               importance_type=None,\n",
      "                               interaction_constraints=None, learning_rate=None,\n",
      "                               max_bin=None, max_cat_threshold=None,\n",
      "                               max_cat_to_onehot=None, max_delta_step=None,\n",
      "                               max_depth=None, max_leaves=None,\n",
      "                               min_child_weight=None, missing=nan,\n",
      "                               monotone_constraints=None, multi_strategy=None,\n",
      "                               n_estimators=None, n_jobs=None,\n",
      "                               num_parallel_tree=None, ...))])\n",
      "XGBClassifier Performance\n",
      "  accuracy: 0.7596\n",
      "  precision: 0.5379\n",
      "  recall: 0.6702\n",
      "  F1-score: 0.5968\n",
      "  ROC-AUC score: 0.8134\n",
      "  Confusion Matrix: \n",
      "  [[1229  323]\n",
      " [ 185  376]]\n",
      "  Classification Report: \n",
      "               precision    recall  f1-score   support\n",
      "\n",
      "           0       0.87      0.79      0.83      1552\n",
      "           1       0.54      0.67      0.60       561\n",
      "\n",
      "    accuracy                           0.76      2113\n",
      "   macro avg       0.70      0.73      0.71      2113\n",
      "weighted avg       0.78      0.76      0.77      2113\n",
      "\n",
      "\n",
      "\n",
      "\n",
      " ................... Training LGBMClassifier ...............\n",
      "\n",
      "\n",
      "Pipeline(steps=[('classifier',\n",
      "                 LGBMClassifier(n_jobs=-1, random_state=42,\n",
      "                                scale_pos_weight=np.float64(2.7691131498470947)))])\n",
      "[LightGBM] [Warning] Found whitespace in feature_names, replace with underlines\n",
      "[LightGBM] [Info] Number of positive: 1308, number of negative: 3622\n",
      "[LightGBM] [Info] Auto-choosing row-wise multi-threading, the overhead of testing was 0.000674 seconds.\n",
      "You can set `force_row_wise=true` to remove the overhead.\n",
      "And if memory is not enough, you can set `force_col_wise=true`.\n",
      "[LightGBM] [Info] Total Bins 659\n",
      "[LightGBM] [Info] Number of data points in the train set: 4930, number of used features: 41\n",
      "[LightGBM] [Info] [binary:BoostFromScore]: pavg=0.265314 -> initscore=-1.018527\n",
      "[LightGBM] [Info] Start training from score -1.018527\n",
      "LGBMClassifier Performance\n",
      "  accuracy: 0.7506\n",
      "  precision: 0.5216\n",
      "  recall: 0.7308\n",
      "  F1-score: 0.6088\n",
      "  ROC-AUC score: 0.8263\n",
      "  Confusion Matrix: \n",
      "  [[1176  376]\n",
      " [ 151  410]]\n",
      "  Classification Report: \n",
      "               precision    recall  f1-score   support\n",
      "\n",
      "           0       0.89      0.76      0.82      1552\n",
      "           1       0.52      0.73      0.61       561\n",
      "\n",
      "    accuracy                           0.75      2113\n",
      "   macro avg       0.70      0.74      0.71      2113\n",
      "weighted avg       0.79      0.75      0.76      2113\n",
      "\n",
      "\n",
      "\n",
      "\n"
     ]
    }
   ],
   "source": [
    "from imblearn.over_sampling import SMOTE\n",
    "models = {\n",
    "    'RandomForest' : RandomForestClassifier(random_state=42, n_jobs=-1,class_weight='balanced'),\n",
    "    'GradientBoosting': GradientBoostingClassifier(random_state=42),\n",
    "    'XGBClassifier': XGBClassifier(random_state = 42, use_label_encoder = False, eval_metric = 'logloss', scale_pos_weight=scale),\n",
    "    'LGBMClassifier': LGBMClassifier(random_state=42, n_jobs=-1, scale_pos_weight=scale)\n",
    "}\n",
    "results= {}\n",
    "\n",
    "for name,model in models.items():\n",
    "    print(f\" ................... Training {name} ...............\")\n",
    "    print(\"\\n\")\n",
    "\n",
    "    # create pipeline. Note: Add Preprocessing steps if needed Ex: scaling\n",
    "    pipeline =  ImbPipeline(steps=[\n",
    "        ('classifier',model)\n",
    "    ])\n",
    "\n",
    "    if name == 'GradientBoosting':\n",
    "        # GradientBoostingClassifier does not have scale_pos_weight or class_weight parameter\n",
    "        # so we will not use SMOTE for this model\n",
    "        pipeline.steps.insert(-1, ('smote', SMOTE(random_state=42))) # add SMOTE to pipeline\n",
    "    \n",
    "    print(pipeline)\n",
    "\n",
    "    pipeline.fit(X_train, y_train)\n",
    "    y_pred = pipeline.predict(X_test)\n",
    "    y_proba = pipeline.predict_proba(X_test)[:,-1] # probability of positive class i.e. churn\n",
    "\n",
    "    accuracy = accuracy_score(y_pred=y_pred, y_true=y_test)\n",
    "    precision = precision_score(y_pred=y_pred, y_true=y_test)\n",
    "    recall = recall_score(y_pred=y_pred, y_true=y_test)\n",
    "    f1 = f1_score(y_pred=y_pred, y_true=y_test)\n",
    "    roc_auc = roc_auc_score(y_test, y_proba)\n",
    "\n",
    "    results[name] = {\n",
    "    'Accuracy' : accuracy,\n",
    "    'Precision': precision,\n",
    "    'Recall': recall,\n",
    "    'F1-score': f1,\n",
    "    'ROC-AUC': roc_auc,\n",
    "    'Confusion Matrix': confusion_matrix(y_pred=y_pred, y_true=y_test),\n",
    "    'classification_report': classification_report(y_pred=y_pred, y_true=y_test)\n",
    "\n",
    "    }\n",
    "\n",
    "    print(f\"{name} Performance\")\n",
    "    print(f\"  accuracy: {accuracy:.4f}\")\n",
    "    print(f\"  precision: {precision:.4f}\")\n",
    "    print(f\"  recall: {recall:.4f}\")\n",
    "    print(f\"  F1-score: {f1:.4f}\")\n",
    "    print(f\"  ROC-AUC score: {roc_auc:.4f}\")\n",
    "    print(f\"  Confusion Matrix: \\n \",results[name]['Confusion Matrix'])\n",
    "    print(f\"  Classification Report: \\n\",results[name]['classification_report'])\n",
    "    print(\"\\n\\n\")\n",
    "\n",
    "\n"
   ]
  },
  {
   "cell_type": "markdown",
   "id": "d15134a9",
   "metadata": {},
   "source": [
    "LGBMClassifier seems to perform better than others\n",
    "\n",
    "At this point we can choose LGBMClassifier as our final model for predicting churn.\\\n",
    "We can further tune the hyperparameters Optuna.\\\n",
    "However, given the current performance, it may not be necessary to do so unless we "
   ]
  },
  {
   "cell_type": "code",
   "execution_count": 36,
   "id": "5a7857ad",
   "metadata": {},
   "outputs": [
    {
     "name": "stderr",
     "output_type": "stream",
     "text": [
      "[I 2025-07-11 17:33:41,145] A new study created in memory with name: no-name-d6d2e2c6-b4f0-471a-9f42-85c536b633e7\n"
     ]
    },
    {
     "name": "stdout",
     "output_type": "stream",
     "text": [
      "Training until validation scores don't improve for 50 rounds\n",
      "Early stopping, best iteration is:\n",
      "[36]\tvalid_0's auc: 0.839542\tvalid_0's binary_logloss: 0.491172\n"
     ]
    },
    {
     "name": "stderr",
     "output_type": "stream",
     "text": [
      "[I 2025-07-11 17:33:41,307] Trial 0 finished with value: 0.6126760563380281 and parameters: {'learning_rate': 0.18753538700317463, 'num_leaves': 119, 'max_depth': 3, 'min_child_samples': 59, 'min_child_weight': 7.462089558429124, 'subsample': 0.9863323697655644, 'colsample_bytree': 0.7864531649035804, 'reg_alpha': 0.5579092019398829, 'reg_lambda': 2.200655840569313, 'n_estimators': 100}. Best is trial 0 with value: 0.6126760563380281.\n"
     ]
    },
    {
     "name": "stdout",
     "output_type": "stream",
     "text": [
      "Training until validation scores don't improve for 50 rounds\n"
     ]
    },
    {
     "name": "stderr",
     "output_type": "stream",
     "text": [
      "[I 2025-07-11 17:33:42,139] Trial 1 finished with value: 0.6239316239316239 and parameters: {'learning_rate': 0.040990757121290196, 'num_leaves': 42, 'max_depth': 11, 'min_child_samples': 61, 'min_child_weight': 4.4225493058735035, 'subsample': 0.7777985347059482, 'colsample_bytree': 0.6130555229577181, 'reg_alpha': 0.442418286183465, 'reg_lambda': 4.114624559965942, 'n_estimators': 100}. Best is trial 1 with value: 0.6239316239316239.\n"
     ]
    },
    {
     "name": "stdout",
     "output_type": "stream",
     "text": [
      "Did not meet early stopping. Best iteration is:\n",
      "[60]\tvalid_0's auc: 0.838356\tvalid_0's binary_logloss: 0.492784\n",
      "Training until validation scores don't improve for 50 rounds\n"
     ]
    },
    {
     "name": "stderr",
     "output_type": "stream",
     "text": [
      "[I 2025-07-11 17:33:42,516] Trial 2 finished with value: 0.6247319513938527 and parameters: {'learning_rate': 0.1648394391584478, 'num_leaves': 134, 'max_depth': 8, 'min_child_samples': 63, 'min_child_weight': 8.84906603399279, 'subsample': 0.751531714962436, 'colsample_bytree': 0.6416834232304026, 'reg_alpha': 0.8998191698724639, 'reg_lambda': 0.28582193551213164, 'n_estimators': 50}. Best is trial 2 with value: 0.6247319513938527.\n"
     ]
    },
    {
     "name": "stdout",
     "output_type": "stream",
     "text": [
      "Did not meet early stopping. Best iteration is:\n",
      "[15]\tvalid_0's auc: 0.838598\tvalid_0's binary_logloss: 0.489972\n",
      "Training until validation scores don't improve for 50 rounds\n"
     ]
    },
    {
     "name": "stderr",
     "output_type": "stream",
     "text": [
      "[I 2025-07-11 17:33:43,452] Trial 3 finished with value: 0.6272273699215966 and parameters: {'learning_rate': 0.06614607763249784, 'num_leaves': 103, 'max_depth': 15, 'min_child_samples': 76, 'min_child_weight': 0.9220317926707735, 'subsample': 0.7124781156001465, 'colsample_bytree': 0.9212130774878401, 'reg_alpha': 0.988191961220256, 'reg_lambda': 3.471455045805568, 'n_estimators': 250}. Best is trial 3 with value: 0.6272273699215966.\n"
     ]
    },
    {
     "name": "stdout",
     "output_type": "stream",
     "text": [
      "Early stopping, best iteration is:\n",
      "[51]\tvalid_0's auc: 0.838753\tvalid_0's binary_logloss: 0.488748\n",
      "Training until validation scores don't improve for 50 rounds\n"
     ]
    },
    {
     "name": "stderr",
     "output_type": "stream",
     "text": [
      "[I 2025-07-11 17:33:44,012] Trial 4 finished with value: 0.6197387518142236 and parameters: {'learning_rate': 0.16988816836996876, 'num_leaves': 134, 'max_depth': 13, 'min_child_samples': 59, 'min_child_weight': 6.918316356577876, 'subsample': 0.8373036887311519, 'colsample_bytree': 0.9730471892664051, 'reg_alpha': 0.22821161029423842, 'reg_lambda': 0.35123436076594683, 'n_estimators': 200}. Best is trial 3 with value: 0.6272273699215966.\n"
     ]
    },
    {
     "name": "stdout",
     "output_type": "stream",
     "text": [
      "Early stopping, best iteration is:\n",
      "[10]\tvalid_0's auc: 0.838492\tvalid_0's binary_logloss: 0.496064\n",
      "Training until validation scores don't improve for 50 rounds\n"
     ]
    },
    {
     "name": "stderr",
     "output_type": "stream",
     "text": [
      "[I 2025-07-11 17:33:45,443] Trial 5 finished with value: 0.6215429403202329 and parameters: {'learning_rate': 0.035924792285275904, 'num_leaves': 73, 'max_depth': 12, 'min_child_samples': 24, 'min_child_weight': 4.358521897921918, 'subsample': 0.6746273354663315, 'colsample_bytree': 0.7645177953515025, 'reg_alpha': 0.2930304636027794, 'reg_lambda': 3.6235773127701396, 'n_estimators': 200}. Best is trial 3 with value: 0.6272273699215966.\n"
     ]
    },
    {
     "name": "stdout",
     "output_type": "stream",
     "text": [
      "Early stopping, best iteration is:\n",
      "[61]\tvalid_0's auc: 0.835382\tvalid_0's binary_logloss: 0.493766\n",
      "Training until validation scores don't improve for 50 rounds\n"
     ]
    },
    {
     "name": "stderr",
     "output_type": "stream",
     "text": [
      "[I 2025-07-11 17:33:45,955] Trial 6 finished with value: 0.6204431736954967 and parameters: {'learning_rate': 0.14608111323921216, 'num_leaves': 47, 'max_depth': 8, 'min_child_samples': 43, 'min_child_weight': 6.722108976521015, 'subsample': 0.758353581003925, 'colsample_bytree': 0.7861113266230063, 'reg_alpha': 0.6107416228538632, 'reg_lambda': 2.2223348491702337, 'n_estimators': 200}. Best is trial 3 with value: 0.6272273699215966.\n"
     ]
    },
    {
     "name": "stdout",
     "output_type": "stream",
     "text": [
      "Early stopping, best iteration is:\n",
      "[13]\tvalid_0's auc: 0.837002\tvalid_0's binary_logloss: 0.498264\n",
      "Training until validation scores don't improve for 50 rounds\n"
     ]
    },
    {
     "name": "stderr",
     "output_type": "stream",
     "text": [
      "[I 2025-07-11 17:33:47,243] Trial 7 finished with value: 0.6242857142857143 and parameters: {'learning_rate': 0.018867646480158633, 'num_leaves': 21, 'max_depth': 10, 'min_child_samples': 48, 'min_child_weight': 0.36429444326135757, 'subsample': 0.8662596222675607, 'colsample_bytree': 0.8841439363384442, 'reg_alpha': 0.6044999466590342, 'reg_lambda': 0.6197429672060067, 'n_estimators': 300}. Best is trial 3 with value: 0.6272273699215966.\n"
     ]
    },
    {
     "name": "stdout",
     "output_type": "stream",
     "text": [
      "Early stopping, best iteration is:\n",
      "[173]\tvalid_0's auc: 0.839859\tvalid_0's binary_logloss: 0.486387\n",
      "Training until validation scores don't improve for 50 rounds\n"
     ]
    },
    {
     "name": "stderr",
     "output_type": "stream",
     "text": [
      "[I 2025-07-11 17:33:47,525] Trial 8 finished with value: 0.6235632183908046 and parameters: {'learning_rate': 0.1360677569685854, 'num_leaves': 44, 'max_depth': 6, 'min_child_samples': 30, 'min_child_weight': 6.496645486400079, 'subsample': 0.7567501975682882, 'colsample_bytree': 0.8251690721970881, 'reg_alpha': 0.1825831769335009, 'reg_lambda': 1.7543234285609377, 'n_estimators': 50}. Best is trial 3 with value: 0.6272273699215966.\n"
     ]
    },
    {
     "name": "stdout",
     "output_type": "stream",
     "text": [
      "Did not meet early stopping. Best iteration is:\n",
      "[16]\tvalid_0's auc: 0.839381\tvalid_0's binary_logloss: 0.491321\n",
      "Training until validation scores don't improve for 50 rounds\n"
     ]
    },
    {
     "name": "stderr",
     "output_type": "stream",
     "text": [
      "[I 2025-07-11 17:33:48,275] Trial 9 finished with value: 0.6247319513938527 and parameters: {'learning_rate': 0.06298618147595311, 'num_leaves': 33, 'max_depth': 9, 'min_child_samples': 66, 'min_child_weight': 4.3862022868729715, 'subsample': 0.6621205843619404, 'colsample_bytree': 0.665505888177681, 'reg_alpha': 0.48882439053641913, 'reg_lambda': 4.949206276152244, 'n_estimators': 300}. Best is trial 3 with value: 0.6272273699215966.\n"
     ]
    },
    {
     "name": "stdout",
     "output_type": "stream",
     "text": [
      "Early stopping, best iteration is:\n",
      "[55]\tvalid_0's auc: 0.838505\tvalid_0's binary_logloss: 0.488488\n",
      "Training until validation scores don't improve for 50 rounds\n"
     ]
    },
    {
     "name": "stderr",
     "output_type": "stream",
     "text": [
      "[I 2025-07-11 17:33:49,147] Trial 10 finished with value: 0.6297627606038821 and parameters: {'learning_rate': 0.08357780276947713, 'num_leaves': 99, 'max_depth': 14, 'min_child_samples': 93, 'min_child_weight': 0.5742030675754779, 'subsample': 0.6031879588754891, 'colsample_bytree': 0.9878660462273061, 'reg_alpha': 0.9926056614004183, 'reg_lambda': 3.428564986409658, 'n_estimators': 250}. Best is trial 10 with value: 0.6297627606038821.\n"
     ]
    },
    {
     "name": "stdout",
     "output_type": "stream",
     "text": [
      "Early stopping, best iteration is:\n",
      "[56]\tvalid_0's auc: 0.839096\tvalid_0's binary_logloss: 0.486186\n",
      "Training until validation scores don't improve for 50 rounds\n"
     ]
    },
    {
     "name": "stderr",
     "output_type": "stream",
     "text": [
      "[I 2025-07-11 17:33:49,958] Trial 11 finished with value: 0.6284896206156049 and parameters: {'learning_rate': 0.09094457345998695, 'num_leaves': 98, 'max_depth': 15, 'min_child_samples': 97, 'min_child_weight': 0.05636262231449052, 'subsample': 0.6270188482814804, 'colsample_bytree': 0.9918943323745039, 'reg_alpha': 0.9727491446748516, 'reg_lambda': 3.3431028229657827, 'n_estimators': 250}. Best is trial 10 with value: 0.6297627606038821.\n"
     ]
    },
    {
     "name": "stdout",
     "output_type": "stream",
     "text": [
      "Early stopping, best iteration is:\n",
      "[57]\tvalid_0's auc: 0.84068\tvalid_0's binary_logloss: 0.483665\n",
      "Training until validation scores don't improve for 50 rounds\n"
     ]
    },
    {
     "name": "stderr",
     "output_type": "stream",
     "text": [
      "[I 2025-07-11 17:33:50,573] Trial 12 finished with value: 0.6318051575931232 and parameters: {'learning_rate': 0.10222725968844501, 'num_leaves': 86, 'max_depth': 15, 'min_child_samples': 99, 'min_child_weight': 2.10300082267354, 'subsample': 0.6030786010350274, 'colsample_bytree': 0.9940787586020353, 'reg_alpha': 0.8050500375110863, 'reg_lambda': 3.0752627498184704, 'n_estimators': 250}. Best is trial 12 with value: 0.6318051575931232.\n"
     ]
    },
    {
     "name": "stdout",
     "output_type": "stream",
     "text": [
      "Early stopping, best iteration is:\n",
      "[40]\tvalid_0's auc: 0.839512\tvalid_0's binary_logloss: 0.486515\n",
      "Training until validation scores don't improve for 50 rounds\n"
     ]
    },
    {
     "name": "stderr",
     "output_type": "stream",
     "text": [
      "[I 2025-07-11 17:33:51,182] Trial 13 finished with value: 0.6280400572246065 and parameters: {'learning_rate': 0.10835915434084105, 'num_leaves': 73, 'max_depth': 13, 'min_child_samples': 100, 'min_child_weight': 2.3956427471518262, 'subsample': 0.6228373556345906, 'colsample_bytree': 0.9132989040891626, 'reg_alpha': 0.7971626357017976, 'reg_lambda': 2.8678932797631695, 'n_estimators': 250}. Best is trial 12 with value: 0.6318051575931232.\n"
     ]
    },
    {
     "name": "stdout",
     "output_type": "stream",
     "text": [
      "Early stopping, best iteration is:\n",
      "[33]\tvalid_0's auc: 0.839161\tvalid_0's binary_logloss: 0.487421\n",
      "Training until validation scores don't improve for 50 rounds\n"
     ]
    },
    {
     "name": "stderr",
     "output_type": "stream",
     "text": [
      "[I 2025-07-11 17:33:51,809] Trial 14 finished with value: 0.6229508196721312 and parameters: {'learning_rate': 0.107561870235556, 'num_leaves': 88, 'max_depth': 15, 'min_child_samples': 84, 'min_child_weight': 2.4428344775258957, 'subsample': 0.6122141237041516, 'colsample_bytree': 0.9572290093180235, 'reg_alpha': 0.776223843234717, 'reg_lambda': 4.684891985429486, 'n_estimators': 300}. Best is trial 12 with value: 0.6318051575931232.\n"
     ]
    },
    {
     "name": "stdout",
     "output_type": "stream",
     "text": [
      "Early stopping, best iteration is:\n",
      "[26]\tvalid_0's auc: 0.838428\tvalid_0's binary_logloss: 0.491675\n",
      "Training until validation scores don't improve for 50 rounds\n"
     ]
    },
    {
     "name": "stderr",
     "output_type": "stream",
     "text": [
      "[I 2025-07-11 17:33:52,348] Trial 15 finished with value: 0.6254493170381021 and parameters: {'learning_rate': 0.08671287076767031, 'num_leaves': 66, 'max_depth': 13, 'min_child_samples': 84, 'min_child_weight': 1.8409779300503102, 'subsample': 0.9150779961143646, 'colsample_bytree': 0.8563233080119828, 'reg_alpha': 0.7566098450906058, 'reg_lambda': 1.6135355798541184, 'n_estimators': 150}. Best is trial 12 with value: 0.6318051575931232.\n"
     ]
    },
    {
     "name": "stdout",
     "output_type": "stream",
     "text": [
      "Early stopping, best iteration is:\n",
      "[39]\tvalid_0's auc: 0.839037\tvalid_0's binary_logloss: 0.486104\n",
      "Training until validation scores don't improve for 50 rounds\n"
     ]
    },
    {
     "name": "stderr",
     "output_type": "stream",
     "text": [
      "[I 2025-07-11 17:33:52,893] Trial 16 finished with value: 0.6275911365260901 and parameters: {'learning_rate': 0.12756159689358618, 'num_leaves': 114, 'max_depth': 14, 'min_child_samples': 85, 'min_child_weight': 3.272008205213787, 'subsample': 0.6883452408684815, 'colsample_bytree': 0.9991912340469292, 'reg_alpha': 0.037620922380151356, 'reg_lambda': 2.7482043421875013, 'n_estimators': 250}. Best is trial 12 with value: 0.6318051575931232.\n"
     ]
    },
    {
     "name": "stdout",
     "output_type": "stream",
     "text": [
      "Early stopping, best iteration is:\n",
      "[15]\tvalid_0's auc: 0.839579\tvalid_0's binary_logloss: 0.496008\n",
      "Training until validation scores don't improve for 50 rounds\n"
     ]
    },
    {
     "name": "stderr",
     "output_type": "stream",
     "text": [
      "[I 2025-07-11 17:33:53,439] Trial 17 finished with value: 0.6252676659528907 and parameters: {'learning_rate': 0.07887397338342644, 'num_leaves': 149, 'max_depth': 11, 'min_child_samples': 91, 'min_child_weight': 1.3209336494416122, 'subsample': 0.7160476151957438, 'colsample_bytree': 0.7294542689116249, 'reg_alpha': 0.861927586143828, 'reg_lambda': 4.122233302352955, 'n_estimators': 150}. Best is trial 12 with value: 0.6318051575931232.\n"
     ]
    },
    {
     "name": "stdout",
     "output_type": "stream",
     "text": [
      "Early stopping, best iteration is:\n",
      "[46]\tvalid_0's auc: 0.83919\tvalid_0's binary_logloss: 0.488789\n",
      "Training until validation scores don't improve for 50 rounds\n"
     ]
    },
    {
     "name": "stderr",
     "output_type": "stream",
     "text": [
      "[I 2025-07-11 17:33:53,793] Trial 18 finished with value: 0.6276445698166432 and parameters: {'learning_rate': 0.11465308404648952, 'num_leaves': 61, 'max_depth': 5, 'min_child_samples': 10, 'min_child_weight': 3.370331898891057, 'subsample': 0.6041134892329675, 'colsample_bytree': 0.9322369930341168, 'reg_alpha': 0.7049554702138321, 'reg_lambda': 1.1897956621006978, 'n_estimators': 250}. Best is trial 12 with value: 0.6318051575931232.\n"
     ]
    },
    {
     "name": "stdout",
     "output_type": "stream",
     "text": [
      "Early stopping, best iteration is:\n",
      "[19]\tvalid_0's auc: 0.838159\tvalid_0's binary_logloss: 0.494447\n",
      "Training until validation scores don't improve for 50 rounds\n"
     ]
    },
    {
     "name": "stderr",
     "output_type": "stream",
     "text": [
      "[I 2025-07-11 17:33:54,433] Trial 19 finished with value: 0.625089605734767 and parameters: {'learning_rate': 0.057608073966000276, 'num_leaves': 90, 'max_depth': 14, 'min_child_samples': 73, 'min_child_weight': 3.0530791606760643, 'subsample': 0.6538346448396918, 'colsample_bytree': 0.8621432642662711, 'reg_alpha': 0.8969837185228287, 'reg_lambda': 3.084159684312418, 'n_estimators': 300}. Best is trial 12 with value: 0.6318051575931232.\n"
     ]
    },
    {
     "name": "stdout",
     "output_type": "stream",
     "text": [
      "Early stopping, best iteration is:\n",
      "[68]\tvalid_0's auc: 0.838102\tvalid_0's binary_logloss: 0.487714\n",
      "Training until validation scores don't improve for 50 rounds\n"
     ]
    },
    {
     "name": "stderr",
     "output_type": "stream",
     "text": [
      "[I 2025-07-11 17:33:55,160] Trial 20 finished with value: 0.6197991391678622 and parameters: {'learning_rate': 0.09643913288843096, 'num_leaves': 108, 'max_depth': 12, 'min_child_samples': 74, 'min_child_weight': 5.6260077181293, 'subsample': 0.8050172818093273, 'colsample_bytree': 0.7119021713920408, 'reg_alpha': 0.6996262563118681, 'reg_lambda': 4.0113239723945515, 'n_estimators': 200}. Best is trial 12 with value: 0.6318051575931232.\n"
     ]
    },
    {
     "name": "stdout",
     "output_type": "stream",
     "text": [
      "Early stopping, best iteration is:\n",
      "[43]\tvalid_0's auc: 0.838656\tvalid_0's binary_logloss: 0.487283\n",
      "Training until validation scores don't improve for 50 rounds\n"
     ]
    },
    {
     "name": "stderr",
     "output_type": "stream",
     "text": [
      "[I 2025-07-11 17:33:55,653] Trial 21 finished with value: 0.6279569892473118 and parameters: {'learning_rate': 0.0836647476902122, 'num_leaves': 98, 'max_depth': 15, 'min_child_samples': 98, 'min_child_weight': 0.036146382864176284, 'subsample': 0.6364800620578298, 'colsample_bytree': 0.9940120213911348, 'reg_alpha': 0.9875038490199317, 'reg_lambda': 3.331079033580435, 'n_estimators': 250}. Best is trial 12 with value: 0.6318051575931232.\n"
     ]
    },
    {
     "name": "stdout",
     "output_type": "stream",
     "text": [
      "Early stopping, best iteration is:\n",
      "[44]\tvalid_0's auc: 0.839341\tvalid_0's binary_logloss: 0.488091\n",
      "Training until validation scores don't improve for 50 rounds\n"
     ]
    },
    {
     "name": "stderr",
     "output_type": "stream",
     "text": [
      "[I 2025-07-11 17:33:56,266] Trial 22 finished with value: 0.6301564722617354 and parameters: {'learning_rate': 0.0980739804812208, 'num_leaves': 89, 'max_depth': 14, 'min_child_samples': 94, 'min_child_weight': 1.0497626342374256, 'subsample': 0.6019799501750627, 'colsample_bytree': 0.9501311031933293, 'reg_alpha': 0.9965276842228568, 'reg_lambda': 2.6001450162088164, 'n_estimators': 250}. Best is trial 12 with value: 0.6318051575931232.\n"
     ]
    },
    {
     "name": "stdout",
     "output_type": "stream",
     "text": [
      "Early stopping, best iteration is:\n",
      "[37]\tvalid_0's auc: 0.838615\tvalid_0's binary_logloss: 0.488213\n",
      "Training until validation scores don't improve for 50 rounds\n"
     ]
    },
    {
     "name": "stderr",
     "output_type": "stream",
     "text": [
      "[I 2025-07-11 17:33:56,907] Trial 23 finished with value: 0.6237482117310443 and parameters: {'learning_rate': 0.1238578250170022, 'num_leaves': 80, 'max_depth': 14, 'min_child_samples': 90, 'min_child_weight': 1.2962250060730591, 'subsample': 0.7052109288604015, 'colsample_bytree': 0.9452296526876935, 'reg_alpha': 0.8606877529664617, 'reg_lambda': 2.480814870585012, 'n_estimators': 200}. Best is trial 12 with value: 0.6318051575931232.\n"
     ]
    },
    {
     "name": "stdout",
     "output_type": "stream",
     "text": [
      "Early stopping, best iteration is:\n",
      "[34]\tvalid_0's auc: 0.837963\tvalid_0's binary_logloss: 0.487357\n",
      "Training until validation scores don't improve for 50 rounds\n"
     ]
    },
    {
     "name": "stderr",
     "output_type": "stream",
     "text": [
      "[I 2025-07-11 17:33:57,493] Trial 24 finished with value: 0.6231155778894473 and parameters: {'learning_rate': 0.14739938560465315, 'num_leaves': 88, 'max_depth': 12, 'min_child_samples': 92, 'min_child_weight': 1.9854400815356823, 'subsample': 0.6005829785202492, 'colsample_bytree': 0.9002645761906443, 'reg_alpha': 0.927230738014508, 'reg_lambda': 2.5541586866497457, 'n_estimators': 300}. Best is trial 12 with value: 0.6318051575931232.\n"
     ]
    },
    {
     "name": "stdout",
     "output_type": "stream",
     "text": [
      "Early stopping, best iteration is:\n",
      "[28]\tvalid_0's auc: 0.838179\tvalid_0's binary_logloss: 0.487306\n",
      "Training until validation scores don't improve for 50 rounds\n"
     ]
    },
    {
     "name": "stderr",
     "output_type": "stream",
     "text": [
      "[I 2025-07-11 17:33:58,499] Trial 25 finished with value: 0.624910007199424 and parameters: {'learning_rate': 0.07415461177083024, 'num_leaves': 125, 'max_depth': 14, 'min_child_samples': 79, 'min_child_weight': 1.1325833657402973, 'subsample': 0.6531158878390675, 'colsample_bytree': 0.9608670000091556, 'reg_alpha': 0.8315402687445824, 'reg_lambda': 3.7014517176244586, 'n_estimators': 250}. Best is trial 12 with value: 0.6318051575931232.\n"
     ]
    },
    {
     "name": "stdout",
     "output_type": "stream",
     "text": [
      "Early stopping, best iteration is:\n",
      "[57]\tvalid_0's auc: 0.839216\tvalid_0's binary_logloss: 0.485338\n",
      "Training until validation scores don't improve for 50 rounds\n"
     ]
    },
    {
     "name": "stderr",
     "output_type": "stream",
     "text": [
      "[I 2025-07-11 17:33:59,208] Trial 26 finished with value: 0.6236559139784946 and parameters: {'learning_rate': 0.05000682075640216, 'num_leaves': 64, 'max_depth': 13, 'min_child_samples': 100, 'min_child_weight': 0.7965507945598764, 'subsample': 0.6829938719511215, 'colsample_bytree': 0.9571060011720202, 'reg_alpha': 0.9991260799656281, 'reg_lambda': 1.9455565141744144, 'n_estimators': 150}. Best is trial 12 with value: 0.6318051575931232.\n"
     ]
    },
    {
     "name": "stdout",
     "output_type": "stream",
     "text": [
      "Early stopping, best iteration is:\n",
      "[86]\tvalid_0's auc: 0.839339\tvalid_0's binary_logloss: 0.485572\n",
      "Training until validation scores don't improve for 50 rounds\n"
     ]
    },
    {
     "name": "stderr",
     "output_type": "stream",
     "text": [
      "[I 2025-07-11 17:33:59,774] Trial 27 finished with value: 0.6255380200860832 and parameters: {'learning_rate': 0.09954074085598408, 'num_leaves': 80, 'max_depth': 11, 'min_child_samples': 91, 'min_child_weight': 9.795968047651577, 'subsample': 0.7313426664362804, 'colsample_bytree': 0.8806844450681037, 'reg_alpha': 0.6968956083826003, 'reg_lambda': 3.0242439248927355, 'n_estimators': 250}. Best is trial 12 with value: 0.6318051575931232.\n"
     ]
    },
    {
     "name": "stdout",
     "output_type": "stream",
     "text": [
      "Early stopping, best iteration is:\n",
      "[38]\tvalid_0's auc: 0.83818\tvalid_0's binary_logloss: 0.487122\n",
      "Training until validation scores don't improve for 50 rounds\n"
     ]
    },
    {
     "name": "stderr",
     "output_type": "stream",
     "text": [
      "[I 2025-07-11 17:34:00,347] Trial 28 finished with value: 0.6275911365260901 and parameters: {'learning_rate': 0.12221966189715977, 'num_leaves': 98, 'max_depth': 10, 'min_child_samples': 71, 'min_child_weight': 2.8054414719901626, 'subsample': 0.6412995502804723, 'colsample_bytree': 0.8331210744043719, 'reg_alpha': 0.9381250828612101, 'reg_lambda': 1.246301711418984, 'n_estimators': 200}. Best is trial 12 with value: 0.6318051575931232.\n",
      "[I 2025-07-11 17:34:00,527] Trial 29 finished with value: 0.6189473684210526 and parameters: {'learning_rate': 0.18617563007412433, 'num_leaves': 116, 'max_depth': 3, 'min_child_samples': 52, 'min_child_weight': 3.661336124199279, 'subsample': 0.9508864064138558, 'colsample_bytree': 0.9751858235824975, 'reg_alpha': 0.4118343163048108, 'reg_lambda': 2.359614505143896, 'n_estimators': 300}. Best is trial 12 with value: 0.6318051575931232.\n"
     ]
    },
    {
     "name": "stdout",
     "output_type": "stream",
     "text": [
      "Early stopping, best iteration is:\n",
      "[20]\tvalid_0's auc: 0.839527\tvalid_0's binary_logloss: 0.490093\n",
      "Training until validation scores don't improve for 50 rounds\n",
      "Early stopping, best iteration is:\n",
      "[36]\tvalid_0's auc: 0.838007\tvalid_0's binary_logloss: 0.492408\n",
      "Training until validation scores don't improve for 50 rounds\n"
     ]
    },
    {
     "name": "stderr",
     "output_type": "stream",
     "text": [
      "[I 2025-07-11 17:34:00,933] Trial 30 finished with value: 0.6278089887640449 and parameters: {'learning_rate': 0.02110106696975718, 'num_leaves': 55, 'max_depth': 14, 'min_child_samples': 81, 'min_child_weight': 1.6643685568056819, 'subsample': 0.8855621110947648, 'colsample_bytree': 0.9298011058499571, 'reg_alpha': 0.6021794459207921, 'reg_lambda': 4.45786905974112, 'n_estimators': 100}. Best is trial 12 with value: 0.6318051575931232.\n"
     ]
    },
    {
     "name": "stdout",
     "output_type": "stream",
     "text": [
      "Did not meet early stopping. Best iteration is:\n",
      "[100]\tvalid_0's auc: 0.837622\tvalid_0's binary_logloss: 0.498181\n",
      "Training until validation scores don't improve for 50 rounds\n"
     ]
    },
    {
     "name": "stderr",
     "output_type": "stream",
     "text": [
      "[I 2025-07-11 17:34:01,488] Trial 31 finished with value: 0.622412562455389 and parameters: {'learning_rate': 0.09046681716855264, 'num_leaves': 95, 'max_depth': 15, 'min_child_samples': 96, 'min_child_weight': 0.5186400523170209, 'subsample': 0.6237743109027024, 'colsample_bytree': 0.992854259815926, 'reg_alpha': 0.937620849408391, 'reg_lambda': 3.243453467719061, 'n_estimators': 250}. Best is trial 12 with value: 0.6318051575931232.\n"
     ]
    },
    {
     "name": "stdout",
     "output_type": "stream",
     "text": [
      "Early stopping, best iteration is:\n",
      "[51]\tvalid_0's auc: 0.838525\tvalid_0's binary_logloss: 0.48628\n",
      "Training until validation scores don't improve for 50 rounds\n"
     ]
    },
    {
     "name": "stderr",
     "output_type": "stream",
     "text": [
      "[I 2025-07-11 17:34:01,891] Trial 32 finished with value: 0.6254442075337597 and parameters: {'learning_rate': 0.09958314068627012, 'num_leaves': 108, 'max_depth': 15, 'min_child_samples': 94, 'min_child_weight': 0.04545554741159252, 'subsample': 0.6006141549767827, 'colsample_bytree': 0.9746464922196464, 'reg_alpha': 0.8444234127600461, 'reg_lambda': 3.7731285509748678, 'n_estimators': 250}. Best is trial 12 with value: 0.6318051575931232.\n"
     ]
    },
    {
     "name": "stdout",
     "output_type": "stream",
     "text": [
      "Early stopping, best iteration is:\n",
      "[35]\tvalid_0's auc: 0.84027\tvalid_0's binary_logloss: 0.486087\n",
      "Training until validation scores don't improve for 50 rounds\n"
     ]
    },
    {
     "name": "stderr",
     "output_type": "stream",
     "text": [
      "[I 2025-07-11 17:34:02,727] Trial 33 finished with value: 0.6325648414985591 and parameters: {'learning_rate': 0.06924985862212868, 'num_leaves': 80, 'max_depth': 14, 'min_child_samples': 86, 'min_child_weight': 0.6884768846059918, 'subsample': 0.6376330201625828, 'colsample_bytree': 0.999090066127781, 'reg_alpha': 0.9267240342006257, 'reg_lambda': 2.781862022826875, 'n_estimators': 250}. Best is trial 33 with value: 0.6325648414985591.\n"
     ]
    },
    {
     "name": "stdout",
     "output_type": "stream",
     "text": [
      "Early stopping, best iteration is:\n",
      "[54]\tvalid_0's auc: 0.839006\tvalid_0's binary_logloss: 0.486701\n",
      "Training until validation scores don't improve for 50 rounds\n"
     ]
    },
    {
     "name": "stderr",
     "output_type": "stream",
     "text": [
      "[I 2025-07-11 17:34:03,292] Trial 34 finished with value: 0.6270579813886901 and parameters: {'learning_rate': 0.07110572164723628, 'num_leaves': 79, 'max_depth': 13, 'min_child_samples': 89, 'min_child_weight': 2.2920805690623176, 'subsample': 0.6465407338350806, 'colsample_bytree': 0.9406910927566388, 'reg_alpha': 0.9001517584372364, 'reg_lambda': 2.745702450614687, 'n_estimators': 200}. Best is trial 33 with value: 0.6325648414985591.\n"
     ]
    },
    {
     "name": "stdout",
     "output_type": "stream",
     "text": [
      "Early stopping, best iteration is:\n",
      "[56]\tvalid_0's auc: 0.838749\tvalid_0's binary_logloss: 0.486663\n",
      "Training until validation scores don't improve for 50 rounds\n"
     ]
    },
    {
     "name": "stderr",
     "output_type": "stream",
     "text": [
      "[I 2025-07-11 17:34:04,000] Trial 35 finished with value: 0.6235632183908046 and parameters: {'learning_rate': 0.046243596190500814, 'num_leaves': 123, 'max_depth': 12, 'min_child_samples': 69, 'min_child_weight': 0.8798369227895679, 'subsample': 0.796429022058925, 'colsample_bytree': 0.9113758159823616, 'reg_alpha': 0.754759887844253, 'reg_lambda': 2.0675518679117646, 'n_estimators': 300}. Best is trial 33 with value: 0.6325648414985591.\n"
     ]
    },
    {
     "name": "stdout",
     "output_type": "stream",
     "text": [
      "Early stopping, best iteration is:\n",
      "[72]\tvalid_0's auc: 0.838775\tvalid_0's binary_logloss: 0.486347\n",
      "Training until validation scores don't improve for 50 rounds\n"
     ]
    },
    {
     "name": "stderr",
     "output_type": "stream",
     "text": [
      "[I 2025-07-11 17:34:05,299] Trial 36 finished with value: 0.6302943287867911 and parameters: {'learning_rate': 0.029790902349469517, 'num_leaves': 72, 'max_depth': 14, 'min_child_samples': 87, 'min_child_weight': 5.278150751446293, 'subsample': 0.6770016840604802, 'colsample_bytree': 0.9783127081330362, 'reg_alpha': 0.8241524940936873, 'reg_lambda': 2.610445922613012, 'n_estimators': 250}. Best is trial 33 with value: 0.6325648414985591.\n"
     ]
    },
    {
     "name": "stdout",
     "output_type": "stream",
     "text": [
      "Early stopping, best iteration is:\n",
      "[122]\tvalid_0's auc: 0.839181\tvalid_0's binary_logloss: 0.486316\n",
      "Training until validation scores don't improve for 50 rounds\n"
     ]
    },
    {
     "name": "stderr",
     "output_type": "stream",
     "text": [
      "[I 2025-07-11 17:34:06,131] Trial 37 finished with value: 0.630901287553648 and parameters: {'learning_rate': 0.03498568075012956, 'num_leaves': 72, 'max_depth': 11, 'min_child_samples': 80, 'min_child_weight': 5.37611827525543, 'subsample': 0.6762798209187034, 'colsample_bytree': 0.9652263159667143, 'reg_alpha': 0.6369891258118107, 'reg_lambda': 2.674855937827752, 'n_estimators': 200}. Best is trial 33 with value: 0.6325648414985591.\n"
     ]
    },
    {
     "name": "stdout",
     "output_type": "stream",
     "text": [
      "Early stopping, best iteration is:\n",
      "[88]\tvalid_0's auc: 0.839284\tvalid_0's binary_logloss: 0.487332\n",
      "Training until validation scores don't improve for 50 rounds\n"
     ]
    },
    {
     "name": "stderr",
     "output_type": "stream",
     "text": [
      "[I 2025-07-11 17:34:07,205] Trial 38 finished with value: 0.6284896206156049 and parameters: {'learning_rate': 0.03222499357428691, 'num_leaves': 54, 'max_depth': 10, 'min_child_samples': 77, 'min_child_weight': 5.354527036443321, 'subsample': 0.6969985379291919, 'colsample_bytree': 0.969073943433462, 'reg_alpha': 0.6583211445055223, 'reg_lambda': 2.9786438752525353, 'n_estimators': 200}. Best is trial 33 with value: 0.6325648414985591.\n"
     ]
    },
    {
     "name": "stdout",
     "output_type": "stream",
     "text": [
      "Early stopping, best iteration is:\n",
      "[100]\tvalid_0's auc: 0.839811\tvalid_0's binary_logloss: 0.486504\n",
      "Training until validation scores don't improve for 50 rounds\n"
     ]
    },
    {
     "name": "stderr",
     "output_type": "stream",
     "text": [
      "[I 2025-07-11 17:34:08,349] Trial 39 finished with value: 0.6245564229950319 and parameters: {'learning_rate': 0.010627447671416542, 'num_leaves': 71, 'max_depth': 7, 'min_child_samples': 61, 'min_child_weight': 7.619642431836143, 'subsample': 0.729862246515881, 'colsample_bytree': 0.8934995747483641, 'reg_alpha': 0.45952906287681405, 'reg_lambda': 2.138163200771552, 'n_estimators': 200}. Best is trial 33 with value: 0.6325648414985591.\n"
     ]
    },
    {
     "name": "stdout",
     "output_type": "stream",
     "text": [
      "Did not meet early stopping. Best iteration is:\n",
      "[198]\tvalid_0's auc: 0.839181\tvalid_0's binary_logloss: 0.493708\n",
      "Training until validation scores don't improve for 50 rounds\n"
     ]
    },
    {
     "name": "stderr",
     "output_type": "stream",
     "text": [
      "[I 2025-07-11 17:34:08,980] Trial 40 finished with value: 0.6274787535410765 and parameters: {'learning_rate': 0.030870707299577256, 'num_leaves': 56, 'max_depth': 11, 'min_child_samples': 86, 'min_child_weight': 5.903557395023636, 'subsample': 0.6766285372969706, 'colsample_bytree': 0.9155668239334779, 'reg_alpha': 0.54756375423441, 'reg_lambda': 1.7990021529272013, 'n_estimators': 150}. Best is trial 33 with value: 0.6325648414985591.\n"
     ]
    },
    {
     "name": "stdout",
     "output_type": "stream",
     "text": [
      "Early stopping, best iteration is:\n",
      "[71]\tvalid_0's auc: 0.839318\tvalid_0's binary_logloss: 0.493378\n",
      "Training until validation scores don't improve for 50 rounds\n"
     ]
    },
    {
     "name": "stderr",
     "output_type": "stream",
     "text": [
      "[I 2025-07-11 17:34:09,813] Trial 41 finished with value: 0.6258890469416786 and parameters: {'learning_rate': 0.05858874618714868, 'num_leaves': 83, 'max_depth': 13, 'min_child_samples': 81, 'min_child_weight': 4.813740520529631, 'subsample': 0.6667584438889682, 'colsample_bytree': 0.9453120603482843, 'reg_alpha': 0.8170691837867234, 'reg_lambda': 2.5881191882699772, 'n_estimators': 250}. Best is trial 33 with value: 0.6325648414985591.\n"
     ]
    },
    {
     "name": "stdout",
     "output_type": "stream",
     "text": [
      "Early stopping, best iteration is:\n",
      "[53]\tvalid_0's auc: 0.837959\tvalid_0's binary_logloss: 0.489279\n",
      "Training until validation scores don't improve for 50 rounds\n"
     ]
    },
    {
     "name": "stderr",
     "output_type": "stream",
     "text": [
      "[I 2025-07-11 17:34:10,864] Trial 42 finished with value: 0.631879914224446 and parameters: {'learning_rate': 0.04072379115253735, 'num_leaves': 70, 'max_depth': 12, 'min_child_samples': 88, 'min_child_weight': 6.196862408667782, 'subsample': 0.6331793470598504, 'colsample_bytree': 0.975760983321555, 'reg_alpha': 0.8877723604506412, 'reg_lambda': 2.357188274572396, 'n_estimators': 250}. Best is trial 33 with value: 0.6325648414985591.\n"
     ]
    },
    {
     "name": "stdout",
     "output_type": "stream",
     "text": [
      "Early stopping, best iteration is:\n",
      "[93]\tvalid_0's auc: 0.83899\tvalid_0's binary_logloss: 0.486303\n",
      "Training until validation scores don't improve for 50 rounds\n"
     ]
    },
    {
     "name": "stderr",
     "output_type": "stream",
     "text": [
      "[I 2025-07-11 17:34:11,556] Trial 43 finished with value: 0.6318051575931232 and parameters: {'learning_rate': 0.03982434209333152, 'num_leaves': 71, 'max_depth': 9, 'min_child_samples': 87, 'min_child_weight': 7.687937708096326, 'subsample': 0.6667465786404629, 'colsample_bytree': 0.9803393176631704, 'reg_alpha': 0.7285045567028078, 'reg_lambda': 2.2951023602167595, 'n_estimators': 200}. Best is trial 33 with value: 0.6325648414985591.\n"
     ]
    },
    {
     "name": "stdout",
     "output_type": "stream",
     "text": [
      "Early stopping, best iteration is:\n",
      "[96]\tvalid_0's auc: 0.839094\tvalid_0's binary_logloss: 0.486027\n",
      "Training until validation scores don't improve for 50 rounds\n"
     ]
    },
    {
     "name": "stderr",
     "output_type": "stream",
     "text": [
      "[I 2025-07-11 17:34:12,263] Trial 44 finished with value: 0.6234875444839858 and parameters: {'learning_rate': 0.042627290729683714, 'num_leaves': 67, 'max_depth': 9, 'min_child_samples': 65, 'min_child_weight': 7.922299970792934, 'subsample': 0.6406658009498036, 'colsample_bytree': 0.9707887285475826, 'reg_alpha': 0.6481106112874947, 'reg_lambda': 2.3456624306039955, 'n_estimators': 200}. Best is trial 33 with value: 0.6325648414985591.\n"
     ]
    },
    {
     "name": "stdout",
     "output_type": "stream",
     "text": [
      "Early stopping, best iteration is:\n",
      "[56]\tvalid_0's auc: 0.839489\tvalid_0's binary_logloss: 0.490145\n",
      "Training until validation scores don't improve for 50 rounds\n"
     ]
    },
    {
     "name": "stderr",
     "output_type": "stream",
     "text": [
      "[I 2025-07-11 17:34:13,027] Trial 45 finished with value: 0.6336917562724015 and parameters: {'learning_rate': 0.05372021155354543, 'num_leaves': 50, 'max_depth': 9, 'min_child_samples': 78, 'min_child_weight': 6.191038311943995, 'subsample': 0.6635324025045397, 'colsample_bytree': 0.9974161003960688, 'reg_alpha': 0.7332687687172106, 'reg_lambda': 3.117095023700406, 'n_estimators': 100}. Best is trial 45 with value: 0.6336917562724015.\n"
     ]
    },
    {
     "name": "stdout",
     "output_type": "stream",
     "text": [
      "Did not meet early stopping. Best iteration is:\n",
      "[64]\tvalid_0's auc: 0.839098\tvalid_0's binary_logloss: 0.486618\n",
      "Training until validation scores don't improve for 50 rounds\n"
     ]
    },
    {
     "name": "stderr",
     "output_type": "stream",
     "text": [
      "[I 2025-07-11 17:34:13,440] Trial 46 finished with value: 0.6217765042979942 and parameters: {'learning_rate': 0.05412655378371914, 'num_leaves': 41, 'max_depth': 8, 'min_child_samples': 34, 'min_child_weight': 6.804963409930563, 'subsample': 0.6226016034047402, 'colsample_bytree': 0.9934039276890054, 'reg_alpha': 0.7560725126498516, 'reg_lambda': 3.0551743265750844, 'n_estimators': 50}. Best is trial 45 with value: 0.6336917562724015.\n"
     ]
    },
    {
     "name": "stdout",
     "output_type": "stream",
     "text": [
      "Did not meet early stopping. Best iteration is:\n",
      "[44]\tvalid_0's auc: 0.835657\tvalid_0's binary_logloss: 0.494062\n",
      "Training until validation scores don't improve for 50 rounds\n"
     ]
    },
    {
     "name": "stderr",
     "output_type": "stream",
     "text": [
      "[I 2025-07-11 17:34:14,181] Trial 47 finished with value: 0.6225736879942487 and parameters: {'learning_rate': 0.06725931553468398, 'num_leaves': 49, 'max_depth': 9, 'min_child_samples': 76, 'min_child_weight': 6.083543231015496, 'subsample': 0.7395425500182772, 'colsample_bytree': 0.8060763592912951, 'reg_alpha': 0.5601625888416946, 'reg_lambda': 1.5655748087329604, 'n_estimators': 100}. Best is trial 45 with value: 0.6336917562724015.\n"
     ]
    },
    {
     "name": "stdout",
     "output_type": "stream",
     "text": [
      "Did not meet early stopping. Best iteration is:\n",
      "[53]\tvalid_0's auc: 0.839733\tvalid_0's binary_logloss: 0.485065\n",
      "Training until validation scores don't improve for 50 rounds\n"
     ]
    },
    {
     "name": "stderr",
     "output_type": "stream",
     "text": [
      "[I 2025-07-11 17:34:14,738] Trial 48 finished with value: 0.6213729653220099 and parameters: {'learning_rate': 0.04255123729613744, 'num_leaves': 21, 'max_depth': 8, 'min_child_samples': 83, 'min_child_weight': 8.25903916574948, 'subsample': 0.7679048384623611, 'colsample_bytree': 0.6284573202896582, 'reg_alpha': 0.3948236288558009, 'reg_lambda': 3.4865114367535215, 'n_estimators': 100}. Best is trial 45 with value: 0.6336917562724015.\n"
     ]
    },
    {
     "name": "stdout",
     "output_type": "stream",
     "text": [
      "Did not meet early stopping. Best iteration is:\n",
      "[97]\tvalid_0's auc: 0.839886\tvalid_0's binary_logloss: 0.487329\n",
      "Training until validation scores don't improve for 50 rounds\n"
     ]
    },
    {
     "name": "stderr",
     "output_type": "stream",
     "text": [
      "[I 2025-07-11 17:34:15,027] Trial 49 finished with value: 0.625 and parameters: {'learning_rate': 0.06480613092958643, 'num_leaves': 35, 'max_depth': 7, 'min_child_samples': 56, 'min_child_weight': 7.352188238492285, 'subsample': 0.7137849039271817, 'colsample_bytree': 0.9238459787582143, 'reg_alpha': 0.7315303816367611, 'reg_lambda': 0.00931038674781881, 'n_estimators': 50}. Best is trial 45 with value: 0.6336917562724015.\n"
     ]
    },
    {
     "name": "stdout",
     "output_type": "stream",
     "text": [
      "Did not meet early stopping. Best iteration is:\n",
      "[43]\tvalid_0's auc: 0.838297\tvalid_0's binary_logloss: 0.486968\n"
     ]
    }
   ],
   "source": [
    "import optuna\n",
    "from lightgbm import LGBMClassifier , early_stopping\n",
    "from sklearn.metrics import roc_auc_score , f1_score\n",
    "\n",
    "def objective(trial):\n",
    "    param = {\n",
    "        'objective': 'binary',   \n",
    "        'verbosity': -1,\n",
    "        'random_state': 42,\n",
    "        'n_jobs': -1,\n",
    "        'learning_rate': trial.suggest_float(\"learning_rate\", 0.01, 0.2),\n",
    "        'num_leaves': trial.suggest_int(\"num_leaves\", 20, 150),\n",
    "        'max_depth': trial.suggest_int(\"max_depth\", 3, 15),\n",
    "        'min_child_samples': trial.suggest_int(\"min_child_samples\", 10, 100),\n",
    "        'min_child_weight': trial.suggest_float(\"min_child_weight\", 1e-3, 10),\n",
    "        'subsample': trial.suggest_float(\"subsample\", 0.6, 1.0),\n",
    "        'colsample_bytree': trial.suggest_float(\"colsample_bytree\", 0.6, 1.0),\n",
    "        'reg_alpha': trial.suggest_float(\"reg_alpha\", 0.0, 1.0),\n",
    "        'reg_lambda': trial.suggest_float(\"reg_lambda\", 0.0, 5.0),\n",
    "        'class_weight': 'balanced',\n",
    "        'n_estimators': trial.suggest_int(\"n_estimators\", 50, 300, step=50)\n",
    "    }\n",
    "    model = LGBMClassifier(**param)\n",
    "    model.fit(X_train, y_train, eval_set=[(X_test, y_test)], eval_metric='auc', callbacks=[early_stopping(50)])\n",
    "\n",
    "    y_pred = model.predict(X_test)  \n",
    "    f1 = f1_score(y_pred=y_pred, y_true=y_test) \n",
    "    return f1\n",
    "\n",
    "\n",
    "study = optuna.create_study(direction='maximize')\n",
    "study.optimize(objective, n_trials=50)\n"
   ]
  },
  {
   "cell_type": "code",
   "execution_count": 37,
   "id": "b9f8eb4d",
   "metadata": {},
   "outputs": [
    {
     "name": "stdout",
     "output_type": "stream",
     "text": [
      "✅ Best F1-score: 0.6336917562724015\n",
      "🧠 Best Params: {'learning_rate': 0.05372021155354543, 'num_leaves': 50, 'max_depth': 9, 'min_child_samples': 78, 'min_child_weight': 6.191038311943995, 'subsample': 0.6635324025045397, 'colsample_bytree': 0.9974161003960688, 'reg_alpha': 0.7332687687172106, 'reg_lambda': 3.117095023700406, 'n_estimators': 100}\n"
     ]
    }
   ],
   "source": [
    "\n",
    "# Best result\n",
    "print(\"✅ Best F1-score:\", study.best_value)\n",
    "print(\"🧠 Best Params:\", study.best_params)"
   ]
  },
  {
   "cell_type": "code",
   "execution_count": 38,
   "id": "d7395ce3",
   "metadata": {},
   "outputs": [],
   "source": [
    "best_params = study.best_params\n",
    "best_params.update({'random_state': 42, 'n_jobs': -1, 'class_weight': 'balanced', 'verbosity': -1, 'objective': 'binary', 'boosting_type': 'gbdt'})"
   ]
  },
  {
   "cell_type": "code",
   "execution_count": 39,
   "id": "4bc64dc3",
   "metadata": {},
   "outputs": [
    {
     "data": {
      "text/plain": [
       "{'learning_rate': 0.05372021155354543,\n",
       " 'num_leaves': 50,\n",
       " 'max_depth': 9,\n",
       " 'min_child_samples': 78,\n",
       " 'min_child_weight': 6.191038311943995,\n",
       " 'subsample': 0.6635324025045397,\n",
       " 'colsample_bytree': 0.9974161003960688,\n",
       " 'reg_alpha': 0.7332687687172106,\n",
       " 'reg_lambda': 3.117095023700406,\n",
       " 'n_estimators': 100,\n",
       " 'random_state': 42,\n",
       " 'n_jobs': -1,\n",
       " 'class_weight': 'balanced',\n",
       " 'verbosity': -1,\n",
       " 'objective': 'binary',\n",
       " 'boosting_type': 'gbdt'}"
      ]
     },
     "execution_count": 39,
     "metadata": {},
     "output_type": "execute_result"
    }
   ],
   "source": [
    "best_params"
   ]
  },
  {
   "cell_type": "code",
   "execution_count": 40,
   "id": "c8d05256",
   "metadata": {},
   "outputs": [
    {
     "name": "stdout",
     "output_type": "stream",
     "text": [
      "Final Model Performance\n",
      "  accuracy: 0.7596\n",
      "  precision: 0.5325\n",
      "  recall: 0.7736\n",
      "  F1-score: 0.6308\n",
      "  ROC-AUC score: 0.8369\n"
     ]
    }
   ],
   "source": [
    "## Retraining the model with best parameters\n",
    "\n",
    "final_model = LGBMClassifier(**best_params)\n",
    "final_model.fit(X_train, y_train)\n",
    "y_pred = final_model.predict(X_test)\n",
    "y_proba = final_model.predict_proba(X_test)[:,-1] # probability of positive class i.e. churn\n",
    "\n",
    "print(\"Final Model Performance\")\n",
    "print(f\"  accuracy: {accuracy_score(y_pred=y_pred, y_true=y_test):.4f}\")\n",
    "print(f\"  precision: {precision_score(y_pred=y_pred, y_true=y_test):.4f}\")\n",
    "print(f\"  recall: {recall_score(y_pred=y_pred, y_true=y_test):.4f}\")\n",
    "print(f\"  F1-score: {f1_score(y_pred=y_pred, y_true=y_test):.4f}\")\n",
    "print(f\"  ROC-AUC score: {roc_auc_score(y_test, y_proba):.4f}\")\n"
   ]
  },
  {
   "cell_type": "code",
   "execution_count": 41,
   "id": "7b32a0ce",
   "metadata": {},
   "outputs": [
    {
     "name": "stdout",
     "output_type": "stream",
     "text": [
      "Best threshold: 0.5051\n",
      "Best F1 score: 0.6331\n"
     ]
    },
    {
     "data": {
      "image/png": "[encoded data removed]",
      "text/plain": [
       "<Figure size 800x600 with 1 Axes>"
      ]
     },
     "metadata": {},
     "output_type": "display_data"
    }
   ],
   "source": [
    "from sklearn.metrics import precision_recall_curve, f1_score\n",
    "import matplotlib.pyplot as plt\n",
    "import numpy as np\n",
    "\n",
    "# Assume these are your true labels and predicted probabilities for the positive class\n",
    "# y_test = ...\n",
    "# y_proba = model.predict_proba(X_test)[:, 1]\n",
    "\n",
    "# Get precision, recall, thresholds\n",
    "precision, recall, thresholds = precision_recall_curve(y_test, y_proba)\n",
    "\n",
    "# Compute F1 scores for each threshold\n",
    "f1_scores = 2 * (precision * recall) / (precision + recall + 1e-8)\n",
    "\n",
    "# Find the best threshold with the highest F1 score\n",
    "best_idx = np.argmax(f1_scores)\n",
    "best_threshold = thresholds[best_idx]\n",
    "best_f1 = f1_scores[best_idx]\n",
    "\n",
    "print(f\"Best threshold: {best_threshold:.4f}\")\n",
    "print(f\"Best F1 score: {best_f1:.4f}\")\n",
    "\n",
    "# Plot the Precision-Recall curve\n",
    "plt.figure(figsize=(8,6))\n",
    "plt.plot(recall, precision, label=\"Precision-Recall curve\")\n",
    "plt.scatter(recall[best_idx], precision[best_idx], color='red', label=f\"Best Threshold = {best_threshold:.2f}\")\n",
    "plt.xlabel(\"Recall\")\n",
    "plt.ylabel(\"Precision\")\n",
    "plt.title(\"Precision-Recall Curve\")\n",
    "plt.legend()\n",
    "plt.grid()\n",
    "plt.show()\n"
   ]
  },
  {
   "cell_type": "code",
   "execution_count": 42,
   "id": "dc39fe81",
   "metadata": {},
   "outputs": [
    {
     "name": "stdout",
     "output_type": "stream",
     "text": [
      "✅ Evaluation with Best Threshold (0.51):\n",
      "F1 Score     : 0.6331\n",
      "Precision    : 0.5358\n",
      "Recall       : 0.7736\n",
      "Accuracy     : 0.7619\n",
      "Confusion Matrix:\n",
      "[[1176  376]\n",
      " [ 127  434]]\n"
     ]
    }
   ],
   "source": [
    "y_pred_final = (y_proba >= best_threshold).astype(int)\n",
    "f1 = f1_score(y_test, y_pred_final)\n",
    "precision = precision_score(y_test, y_pred_final)\n",
    "recall = recall_score(y_test, y_pred_final)\n",
    "accuracy = accuracy_score(y_test, y_pred_final)\n",
    "cm = confusion_matrix(y_test, y_pred_final)\n",
    "\n",
    "print(f\"✅ Evaluation with Best Threshold ({best_threshold:.2f}):\")\n",
    "print(f\"F1 Score     : {f1:.4f}\")\n",
    "print(f\"Precision    : {precision:.4f}\")\n",
    "print(f\"Recall       : {recall:.4f}\")\n",
    "print(f\"Accuracy     : {accuracy:.4f}\")\n",
    "print(f\"Confusion Matrix:\\n{cm}\")\n",
    "\n",
    "\n"
   ]
  },
  {
   "cell_type": "code",
   "execution_count": 43,
   "id": "4155c002",
   "metadata": {},
   "outputs": [
    {
     "data": {
      "image/png": "[encoded data removed]",
      "text/plain": [
       "<Figure size 640x480 with 2 Axes>"
      ]
     },
     "metadata": {},
     "output_type": "display_data"
    }
   ],
   "source": [
    "import seaborn as sns\n",
    "import matplotlib.pyplot as plt\n",
    "\n",
    "sns.heatmap(cm, annot=True, fmt='d', cmap='Blues')\n",
    "plt.xlabel(\"Predicted\")\n",
    "plt.ylabel(\"Actual\")\n",
    "plt.title(f\"Confusion Matrix at Threshold = {best_threshold:.2f}\")\n",
    "plt.show()\n"
   ]
  },
  {
   "cell_type": "code",
   "execution_count": 44,
   "id": "dd6d3209",
   "metadata": {},
   "outputs": [
    {
     "data": {
      "text/plain": [
       "{'learning_rate': 0.05372021155354543,\n",
       " 'num_leaves': 50,\n",
       " 'max_depth': 9,\n",
       " 'min_child_samples': 78,\n",
       " 'min_child_weight': 6.191038311943995,\n",
       " 'subsample': 0.6635324025045397,\n",
       " 'colsample_bytree': 0.9974161003960688,\n",
       " 'reg_alpha': 0.7332687687172106,\n",
       " 'reg_lambda': 3.117095023700406,\n",
       " 'n_estimators': 100,\n",
       " 'random_state': 42,\n",
       " 'n_jobs': -1,\n",
       " 'class_weight': 'balanced',\n",
       " 'verbosity': -1,\n",
       " 'objective': 'binary',\n",
       " 'boosting_type': 'gbdt'}"
      ]
     },
     "execution_count": 44,
     "metadata": {},
     "output_type": "execute_result"
    }
   ],
   "source": [
    "best_params"
   ]
  },
  {
   "cell_type": "code",
   "execution_count": 45,
   "id": "8171bcda",
   "metadata": {},
   "outputs": [
    {
     "data": {
      "text/plain": [
       "['model/model_bundle.joblib']"
      ]
     },
     "execution_count": 45,
     "metadata": {},
     "output_type": "execute_result"
    }
   ],
   "source": [
    "import joblib\n",
    "import os\n",
    "\n",
    "# Combine into a dictionary\n",
    "save_bundle = {\n",
    "    'model': final_model,\n",
    "    'best_params': best_params,\n",
    "    'threshold': best_threshold,\n",
    "    'metrics': {\n",
    "        'f1_score': f1,\n",
    "        'precision': precision,\n",
    "        'recall': recall,\n",
    "        'accuracy': accuracy\n",
    "    }\n",
    "}\n",
    "# Dump to file\n",
    "folder_path = 'model'\n",
    "file_path = os.path.join(folder_path, 'model_bundle.joblib')\n",
    "os.makedirs(folder_path, exist_ok=True)\n",
    "joblib.dump(save_bundle, file_path)\n"
   ]
  }
 ],
 "metadata": {
  "kernelspec": {
   "display_name": ".venv",
   "language": "python",
   "name": "python3"
  },
  "language_info": {
   "codemirror_mode": {
    "name": "ipython",
    "version": 3
   },
   "file_extension": ".py",
   "mimetype": "text/x-python",
   "name": "python",
   "nbconvert_exporter": "python",
   "pygments_lexer": "ipython3",
   "version": "3.12.3"
  }
 },
 "nbformat": 4,
 "nbformat_minor": 5
}
